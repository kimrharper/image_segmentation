{
 "cells": [
  {
   "cell_type": "markdown",
   "metadata": {
    "_kg_hide-input": true
   },
   "source": [
    "__Collecting Library Version info in case of deprecation:__<br>\n",
    "!pip freeze > requirements\n",
    "\n",
    "__Installing Library Version in case of deprecation:__<br>\n",
    "!pip install -r requirements-March-2019.txt<br>"
   ]
  },
  {
   "cell_type": "markdown",
   "metadata": {
    "_kg_hide-input": true,
    "_kg_hide-output": true,
    "_uuid": "449b96cb67ef458ebac26ada00cd2b3dec55019c"
   },
   "source": [
    "<div style=\"background-color:rgba(240,248,255, 0.5); text-align:left; vertical-align: middle;padding: 5 5\">**RESOURCES:**<br>\n",
    "1. [Example Blog Style Post](https://kennfucius.github.io/0001-trimet-delays/)<br>\n",
    "2. [Official Data Set Link](https://research.google.com/youtube8m/)<br>\n",
    "3. [Official Repo](https://github.com/google/youtube-8m)<br>\n",
    "4. [Starter Kernel](https://www.kaggle.com/juliaelliott/starter-kernel-yt8m-2018-sample-data)<br>\n",
    "5. [Neat Graphviz Tutorial](https://stackoverflow.com/questions/41942109/plotting-the-digraph-with-graphviz-in-python-from-dot-file)<br>\n",
    "6. [TF Datatype Deprecation](https://www.tensorflow.org/guide/datasets)<br><br>\n",
    "\n",
    "**TODO:** <br>\n",
    "1. Explore the relationship between annotations and mean_audio\n",
    "2. [Download](https://www.kaggle.com/krharps/download-training-videos-for-windows/) main data locally<br>\n",
    "3. Remove videos that do not include any of the labels from the top 10 labels<br>\n",
    "4. Upload CSV list with the remaining values<br>\n",
    "5. Feature importance<br>\n",
    "6. Explore how to make predictions for GAP metric<br><br>\n",
    "\n",
    "**COMPLETED:** <br>\n",
    "1. Imported data (csv and tfrecord)<br>\n",
    "2. Cleaned the data (needs recheck)<br>\n",
    "3. Barcharts of Labeled data<br>\n",
    "4. Kernel EDA Introduction 1st draft (Hypothesis, methodology, goals, dataset info)<br>\n",
    "5. Basic NetworkX Visualization<br>\n",
    "6. Explore audio and rgb features (statistical inference/normalization method)<br>\n",
    "7. Check again to make sure data is clean<br>\n",
    "8. Explore audio and rgb features (statistical inference/normalization method <br>\n",
    "9. Improve NetworkX visualization<br>\n",
    "10. Fixed Tensforflow Update related bugs<br>\n",
    "11. Improved YouTube Display feature<br>\n",
    "12. Finished T-SNE Visualization and found outliers</div>"
   ]
  },
  {
   "cell_type": "markdown",
   "metadata": {
    "_uuid": "f1e4f1dd71f962ba686c5bdc69db81ea8e1fd711"
   },
   "source": [
    "# __Exploratory Data Analysis:__  [YouTube-8M](https://www.kaggle.com/c/youtube8m-2018)"
   ]
  },
  {
   "cell_type": "markdown",
   "metadata": {
    "_uuid": "350bf25b93917145875428e032998b0256cbaac0"
   },
   "source": [
    "__[What is EDA?](https://www.itl.nist.gov/div898/handbook/eda/section1/eda11.htm)__<br>\n",
    "> Exploratory Data Analysis (EDA) is an approach/philosophy for data analysis that employs a variety of techniques (mostly graphical) to:\n",
    "> 1. maximize insight into a data set<br>\n",
    "> 2. uncover underlying structure<br>\n",
    "> 3. extract important variables<br>\n",
    "> 4. detect outliers and anomalies<br>\n",
    "> 5. test underlying assumptions<br>\n",
    "> 6. develop parsimonious models<br>\n",
    "> 7. determine optimal factor settings\n",
    "\n",
    "\n",
    "**Competition Objective: **Learning video representation under budget constraints<br><br>\n",
    "**Hypothesis:** Initial features for mean_rgb and mean_audio provide more information than later features.<br><br>\n",
    "**Methodology:** Explore the relationship between labels, mean_rgb features using sample distributions and statistical tests<br><br>\n",
    "**Goal:** Models can focus on a subset of features to greatly reduce processing time with a much less significant loss in prediction accuracy.<br><br>\n",
    "**Data:** \"Precomputed audio-visual features from billions of frames and audio segments\" (i.e. anonymized):\n",
    "\n",
    " <div style=\"background-color:rgba(240,248,255, 0.5); text-align:left; vertical-align: middle;padding: 5 5\"> \n",
    " > __label_names_2018.csv__\n",
    "> * `Label_Id`: ID is used for reference and embedding\n",
    "> * `Label_Name`: The labels used to represent each movie<br>\n",
    "> \n",
    "> __vocabulary.csv__\n",
    "> * `Index`: ID is used for reference and embedding\n",
    "> * `TrainVideoCount`: Total number of videos with corresponding label\n",
    "> * `KnowledgeGraphId`: ?\n",
    "> * `Name`: Names used to represent each movie\n",
    "> * `WikiUrl`: Links for label to Wiki page.\n",
    "> * `Vertical1`: First category label\n",
    "> * `Vertical2`: Second category label\n",
    "> * `Vertical3`: Third category label\n",
    "> * `WikiDescription`: Initial information on Wiki page.<br>\n",
    "> \n",
    "> __sample_submission.csv__\n",
    "> * `VideoId`: Indexable ID \n",
    "> * `LabelConfidencePairs`: Pair (label, probability) of N predictions <br>\n",
    "> \n",
    "> __train01.tfrecord__\n",
    "> * `VideoId`: Indexable ID \n",
    "> * `LabelConfidencePairs`: Pair (label, probability) of N predictions\n",
    "> \n",
    "> __train02.tfrecord__\n",
    "> * `VideoId`: Indexable ID \n",
    "> * `LabelConfidencePairs`: Pair (label, probability) of N predictions\n",
    "</div>\n",
    "<br>\n",
    "**Scoring Metric**: $$GAP = \\sum_{i=1}^N p(i) \\Delta r(i)$$\n",
    "<img src=\"https://blog.exsilio.com/wp-content/uploads/2016/09/table-blog.png\" alt=\"Recall and Precision\" style=\"width: 400px;\">\n",
    "<br>\n",
    "`N`: # label predictions (predict 20 labels, then N = 20)<br>\n",
    "`p(i)`: $Precision = TP/TP+FP$ <br>\n",
    "`r(i)`: $Recall = TP/TP+FN$<br>"
   ]
  },
  {
   "cell_type": "code",
   "execution_count": 1,
   "metadata": {
    "_cell_guid": "b1076dfc-b9ad-4769-8c92-a6c4dae69d19",
    "_kg_hide-input": false,
    "_kg_hide-output": false,
    "_uuid": "8f2839f25d086af736a60e9eeb907d3b93b6e0e5",
    "scrolled": true
   },
   "outputs": [],
   "source": [
    "import requests                            # internet access\n",
    "import urllib                              # url contact for youtube\n",
    "import os                                  # navigate kaggle folder\n",
    "from glob import glob                      # easy file path access\n",
    "import scipy                               # general statistics\n",
    "import statsmodels                         # specialized statistics\n",
    "from sklearn.manifold import TSNE          # data science dim reduction for viz\n",
    "import numpy as np                         # matrix and vector math\n",
    "from random import randint                 # random int values for eda\n",
    "import pandas as pd                        # data exploration and dataframes\n",
    "import seaborn as sns                      # nice data visualization tools\n",
    "import matplotlib                          # output customization\n",
    "import matplotlib.pyplot as plt            # plot customization\n",
    "from PIL import Image                      # img manipulation tool\n",
    "import networkx as nx                      # Network/Graph plotting\n",
    "from IPython.display import YouTubeVideo   # YouTube viz tool\n",
    "import warnings                            # Handle and hide warnings\n",
    "warnings.filterwarnings('ignore')          #\n",
    "import tensorflow as tf                    # Import and run tf session\n",
    "# tf.enable_eager_execution()   \n",
    "tf.Session()\n",
    "             #\n",
    "color_choice = \"cool\"                      # customize colors: cool, Paired,GnBu_r\n",
    "cmap = matplotlib.cm.get_cmap(color_choice)#"
   ]
  },
  {
   "cell_type": "code",
   "execution_count": 2,
   "metadata": {
    "_cell_guid": "b1076dfc-b9ad-4769-8c92-a6c4dae69d19",
    "_kg_hide-input": false,
    "_uuid": "8f2839f25d086af736a60e9eeb907d3b93b6e0e5",
    "scrolled": true
   },
   "outputs": [],
   "source": [
    "# Setup Folder/File paths\n",
    "path,v_path,f_path = \"../input/\",\"video-sample/video/\",\"frame-sample/frame/\"\n",
    "p_labels,p_vocab,p_test = path+'label_names_2018.csv', path+'vocabulary.csv',path+'sample_submission.csv'\n",
    "train = ['train00.tfrecord', 'train01.tfrecord']\n",
    "train_video,train_frame = [path+v_path+i for i in train], [path+f_path+i for i in train]"
   ]
  },
  {
   "cell_type": "markdown",
   "metadata": {
    "_uuid": "6e537b65299a71c86d45a6e19b2ef17131d9e89f"
   },
   "source": [
    "# 1. CSV Files"
   ]
  },
  {
   "cell_type": "markdown",
   "metadata": {
    "_uuid": "367e48f334ba2d524e7611cd9304acea7ef58ab5"
   },
   "source": [
    "CSV files are one of many different methods for storing data. CSV files are basically just rows of data with columns delineated by some marking character (most often commas). There are three CSV files that are provided in the data set. To better understand the project, each CSV needs to be examined in order to understand what data is available and to better see how all of the data relates to each other. Furthermore, data needs to be checked for errors, null values, and/or any other misleading data that might negatively affect the development of the model."
   ]
  },
  {
   "cell_type": "code",
   "execution_count": 3,
   "metadata": {
    "_kg_hide-input": false,
    "_kg_hide-output": true,
    "_uuid": "72b962330524f77ca035b581f7d046e47a6de75b"
   },
   "outputs": [
    {
     "name": "stdout",
     "output_type": "stream",
     "text": [
      "Label Count: 3856 Imported Labels and 6 Errored Labels\n"
     ]
    },
    {
     "name": "stderr",
     "output_type": "stream",
     "text": [
      "Skipping line 273: Expected 2 fields in line 273, saw 3\n",
      "Skipping line 1985: Expected 2 fields in line 1985, saw 3\n",
      "Skipping line 3069: Expected 2 fields in line 3069, saw 3\n",
      "Skipping line 3174: Expected 2 fields in line 3174, saw 3\n",
      "Skipping line 3661: Expected 2 fields in line 3661, saw 3\n",
      "Skipping line 3856: Expected 2 fields in line 3856, saw 3\n"
     ]
    }
   ],
   "source": [
    "cols = ['label_id','label_name','misc']\n",
    "df_labels,df_vocab = pd.read_csv(p_labels,engine='python', error_bad_lines=False), pd.read_csv(p_vocab)\n",
    "print(f\"Label Count: {len(df_labels)} Imported Labels and 6 Errored Labels\")"
   ]
  },
  {
   "cell_type": "markdown",
   "metadata": {
    "_uuid": "98fdf7ca220d9c68e5eff5f036c81735304aca93"
   },
   "source": [
    "There are six import errors for `df_labels`. The error `Expected 2 fields in line 273, saw 3` implies that row 273 had more than 2 delimiters (in this case 'commas'). The error lines are likely a result of commas embedded inside these labels. Questions of importance. How did other people handle this error? Why don't other kernels address this problem? Was the data file updated after the project? Did users find a solution to the error or did they decide to skip over these six rows?"
   ]
  },
  {
   "cell_type": "code",
   "execution_count": 4,
   "metadata": {},
   "outputs": [
    {
     "name": "stdout",
     "output_type": "stream",
     "text": [
      "['271', 'Nike', ' Inc.']\n",
      "['1979', 'Space Marines (Warhammer 40', '000)']\n",
      "['3165', 'Warhammer 40', '000: Dawn of War']\n",
      "['3248', 'Ork (Warhammer 40', '000)']\n",
      "['3766', 'Warhammer 40', '000: Dawn of War II']\n",
      "['3759', 'Eldar (Warhammer 40', '000)']\n"
     ]
    }
   ],
   "source": [
    "import csv\n",
    "final_error = []\n",
    "\n",
    "with open(p_labels) as csv_file:\n",
    "    csv_reader = csv.reader(csv_file, delimiter=',')\n",
    "    line_count = 0\n",
    "    for row in csv_reader:\n",
    "        if line_count == 0:\n",
    "           #print(f'Column names are {\", \".join(row)}')\n",
    "            line_count += 1\n",
    "        else:\n",
    "            if len(row) == 2:\n",
    "               #print(f'{row[0]}: {row[1]}')\n",
    "                pass\n",
    "            else:\n",
    "               #print(f'{row[0]}: {row[1]},{row[2]}')\n",
    "                final_error.append(row)\n",
    "            line_count += 1\n",
    "     #print(f'Processed {line_count} lines.')\n",
    "    [print(i) for i in final_error];"
   ]
  },
  {
   "cell_type": "code",
   "execution_count": 5,
   "metadata": {
    "_uuid": "dfb613bffe3ec5f8100593e439306ac7536e4160"
   },
   "outputs": [
    {
     "data": {
      "text/html": [
       "<div>\n",
       "<style scoped>\n",
       "    .dataframe tbody tr th:only-of-type {\n",
       "        vertical-align: middle;\n",
       "    }\n",
       "\n",
       "    .dataframe tbody tr th {\n",
       "        vertical-align: top;\n",
       "    }\n",
       "\n",
       "    .dataframe thead th {\n",
       "        text-align: right;\n",
       "    }\n",
       "</style>\n",
       "<table border=\"1\" class=\"dataframe\">\n",
       "  <thead>\n",
       "    <tr style=\"text-align: right;\">\n",
       "      <th></th>\n",
       "      <th>label_id</th>\n",
       "      <th>label_name</th>\n",
       "    </tr>\n",
       "  </thead>\n",
       "  <tbody>\n",
       "    <tr>\n",
       "      <th>0</th>\n",
       "      <td>0</td>\n",
       "      <td>Game</td>\n",
       "    </tr>\n",
       "    <tr>\n",
       "      <th>1</th>\n",
       "      <td>1</td>\n",
       "      <td>Video game</td>\n",
       "    </tr>\n",
       "    <tr>\n",
       "      <th>2</th>\n",
       "      <td>2</td>\n",
       "      <td>Vehicle</td>\n",
       "    </tr>\n",
       "    <tr>\n",
       "      <th>3</th>\n",
       "      <td>3</td>\n",
       "      <td>Concert</td>\n",
       "    </tr>\n",
       "    <tr>\n",
       "      <th>4</th>\n",
       "      <td>4</td>\n",
       "      <td>Musician</td>\n",
       "    </tr>\n",
       "  </tbody>\n",
       "</table>\n",
       "</div>"
      ],
      "text/plain": [
       "   label_id  label_name\n",
       "0         0        Game\n",
       "1         1  Video game\n",
       "2         2     Vehicle\n",
       "3         3     Concert\n",
       "4         4    Musician"
      ]
     },
     "execution_count": 5,
     "metadata": {},
     "output_type": "execute_result"
    }
   ],
   "source": [
    "df_labels.head(5)"
   ]
  },
  {
   "cell_type": "code",
   "execution_count": 6,
   "metadata": {
    "_uuid": "a0539ace50012284ce5f02f387bf47a6d17e05ea",
    "scrolled": true
   },
   "outputs": [
    {
     "name": "stdout",
     "output_type": "stream",
     "text": [
      "# of Labels: 3862\n"
     ]
    },
    {
     "data": {
      "text/html": [
       "<div>\n",
       "<style scoped>\n",
       "    .dataframe tbody tr th:only-of-type {\n",
       "        vertical-align: middle;\n",
       "    }\n",
       "\n",
       "    .dataframe tbody tr th {\n",
       "        vertical-align: top;\n",
       "    }\n",
       "\n",
       "    .dataframe thead th {\n",
       "        text-align: right;\n",
       "    }\n",
       "</style>\n",
       "<table border=\"1\" class=\"dataframe\">\n",
       "  <thead>\n",
       "    <tr style=\"text-align: right;\">\n",
       "      <th></th>\n",
       "      <th>Index</th>\n",
       "      <th>TrainVideoCount</th>\n",
       "      <th>KnowledgeGraphId</th>\n",
       "      <th>Name</th>\n",
       "      <th>WikiUrl</th>\n",
       "      <th>Vertical1</th>\n",
       "      <th>Vertical2</th>\n",
       "      <th>Vertical3</th>\n",
       "      <th>WikiDescription</th>\n",
       "    </tr>\n",
       "  </thead>\n",
       "  <tbody>\n",
       "    <tr>\n",
       "      <th>0</th>\n",
       "      <td>0</td>\n",
       "      <td>788288</td>\n",
       "      <td>/m/03bt1gh</td>\n",
       "      <td>Game</td>\n",
       "      <td>https://en.wikipedia.org/wiki/Game</td>\n",
       "      <td>Games</td>\n",
       "      <td>NaN</td>\n",
       "      <td>NaN</td>\n",
       "      <td>A game is structured form of play, usually und...</td>\n",
       "    </tr>\n",
       "    <tr>\n",
       "      <th>1</th>\n",
       "      <td>1</td>\n",
       "      <td>539945</td>\n",
       "      <td>/m/01mw1</td>\n",
       "      <td>Video game</td>\n",
       "      <td>https://en.wikipedia.org/wiki/Video_game</td>\n",
       "      <td>Games</td>\n",
       "      <td>NaN</td>\n",
       "      <td>NaN</td>\n",
       "      <td>A video game is an electronic game that involv...</td>\n",
       "    </tr>\n",
       "    <tr>\n",
       "      <th>2</th>\n",
       "      <td>2</td>\n",
       "      <td>415890</td>\n",
       "      <td>/m/07yv9</td>\n",
       "      <td>Vehicle</td>\n",
       "      <td>https://en.wikipedia.org/wiki/Vehicle</td>\n",
       "      <td>Autos &amp; Vehicles</td>\n",
       "      <td>NaN</td>\n",
       "      <td>NaN</td>\n",
       "      <td>A vehicle is a mobile machine that transports ...</td>\n",
       "    </tr>\n",
       "  </tbody>\n",
       "</table>\n",
       "</div>"
      ],
      "text/plain": [
       "   Index                        ...                                                            WikiDescription\n",
       "0      0                        ...                          A game is structured form of play, usually und...\n",
       "1      1                        ...                          A video game is an electronic game that involv...\n",
       "2      2                        ...                          A vehicle is a mobile machine that transports ...\n",
       "\n",
       "[3 rows x 9 columns]"
      ]
     },
     "execution_count": 6,
     "metadata": {},
     "output_type": "execute_result"
    }
   ],
   "source": [
    "# looking at vocab_df structure\n",
    "df_vocab.sort_values(['TrainVideoCount'],ascending=False)\n",
    "print(f\"# of Labels: {len(df_vocab)}\")\n",
    "df_vocab.head(3)"
   ]
  },
  {
   "cell_type": "markdown",
   "metadata": {
    "_uuid": "6e2ed368e6c1788f7f3aaa202fa35db5ab941347"
   },
   "source": [
    "`df_vocab` appears to have more information than `df_labels`. The `KnowledgeGraphId` column appears to be a unique YouTube identifier key that pairs with the `Name` column.<br><br>\n",
    "\n",
    "`Vertical 1`, `Vertical 2` ,and `Vertical 3` are three columns of categories that the `Name` column is considered to be a member of. For example, the values <span style=\"color:darkblue\">Game</span>  and <span style=\"color:darkblue\">Video game</span> in the `Name` column  both have the value of <span style=\"color:darkblue\">Games</span>  in the `Vertical 1` column."
   ]
  },
  {
   "cell_type": "code",
   "execution_count": 7,
   "metadata": {
    "_uuid": "e0c8ca48ccce5cad15098a925f3f579e2a50fa99"
   },
   "outputs": [
    {
     "data": {
      "image/png": "[encoded data removed]",
      "text/plain": [
       "<Figure size 1440x432 with 1 Axes>"
      ]
     },
     "metadata": {},
     "output_type": "display_data"
    }
   ],
   "source": [
    "sns.set(rc={'figure.figsize':(20,6)})\n",
    "g=sns.barplot(data=df_vocab.iloc[0:20],x='Name',y='TrainVideoCount',palette=sns.color_palette(color_choice),linewidth=2.5)\n",
    "g.set_xticklabels(df_vocab['Name'].iloc[0:50].values,rotation=-90);"
   ]
  },
  {
   "cell_type": "code",
   "execution_count": 8,
   "metadata": {
    "_uuid": "ff575390a33214cf072cc8ca197ab3bed24ea5a5"
   },
   "outputs": [
    {
     "name": "stdout",
     "output_type": "stream",
     "text": [
      "Name:  3807\n",
      "Vertical1:  25\n",
      "Vertical2:  22\n",
      "Vertical3:  15\n"
     ]
    }
   ],
   "source": [
    "# Check unique vals for categoricals\n",
    "print('Name: ',len(df_vocab.Name.unique()))\n",
    "print('Vertical1: ',len(df_vocab.Vertical1.unique()))\n",
    "print('Vertical2: ',len(df_vocab.Vertical2.unique()))\n",
    "print('Vertical3: ',len(df_vocab.Vertical3.unique()))"
   ]
  },
  {
   "cell_type": "markdown",
   "metadata": {
    "_uuid": "6feacc0dcb0906ecb5c2e9251f85d6bf2c176bf3"
   },
   "source": [
    "The number of unique values decreases from `Name` to `Vertical3`. It is unclear what Vertical means, but it is very clear that there is a limited number of labels being used for the three vertical features in `df_vocab`."
   ]
  },
  {
   "cell_type": "code",
   "execution_count": 9,
   "metadata": {
    "_uuid": "f9dadac3f8de3dc80ffafa79bd335ed0c6f04c01"
   },
   "outputs": [
    {
     "data": {
      "image/png": "[encoded data removed]",
      "text/plain": [
       "<Figure size 1440x216 with 1 Axes>"
      ]
     },
     "metadata": {},
     "output_type": "display_data"
    },
    {
     "data": {
      "image/png": "[encoded data removed]",
      "text/plain": [
       "<Figure size 1440x216 with 1 Axes>"
      ]
     },
     "metadata": {},
     "output_type": "display_data"
    },
    {
     "data": {
      "image/png": "[encoded data removed]",
      "text/plain": [
       "<Figure size 1440x216 with 1 Axes>"
      ]
     },
     "metadata": {},
     "output_type": "display_data"
    }
   ],
   "source": [
    "# assign limit and columns for barplot\n",
    "top_n = 14\n",
    "v_names = ['Vertical1','Vertical2','Vertical3']\n",
    "\n",
    "# loop to visualize each column with the same params\n",
    "for v in v_names:\n",
    "    v_counts  = df_vocab[v].value_counts()[:top_n,]\n",
    "    plt.figure(figsize=(20,3))\n",
    "    g = sns.barplot(v_counts.index, v_counts.values, alpha=0.8, palette=color_choice,linewidth=2.5)\n",
    "    g.set_xticklabels(v_counts.index,rotation=-90);\n",
    "    plt.title(f'{v}: Top {top_n} Categorical Occurrence')\n",
    "    plt.ylabel('Occurrence Count', fontsize=12)\n",
    "    plt.xlabel('Category Name', fontsize=12)\n",
    "    plt.show()"
   ]
  },
  {
   "cell_type": "markdown",
   "metadata": {
    "_uuid": "5176eee9856fccc3717d308bec557387b9006ee8"
   },
   "source": [
    "<span style=\"color:darkblue\">Games</span> is a clear leader in all three plots. <span style=\"color:darkblue\">Sports</span> comes in second. <span style=\"color:darkblue\">Science</span> appears to appear most frequently in `Vertical2` and `Vertical3`. "
   ]
  },
  {
   "cell_type": "code",
   "execution_count": 10,
   "metadata": {
    "_uuid": "796e89e59aae77364f8e193aea998aee772661b8",
    "scrolled": true
   },
   "outputs": [
    {
     "data": {
      "text/html": [
       "<div>\n",
       "<style scoped>\n",
       "    .dataframe tbody tr th:only-of-type {\n",
       "        vertical-align: middle;\n",
       "    }\n",
       "\n",
       "    .dataframe tbody tr th {\n",
       "        vertical-align: top;\n",
       "    }\n",
       "\n",
       "    .dataframe thead th {\n",
       "        text-align: right;\n",
       "    }\n",
       "</style>\n",
       "<table border=\"1\" class=\"dataframe\">\n",
       "  <thead>\n",
       "    <tr style=\"text-align: right;\">\n",
       "      <th></th>\n",
       "      <th>VideoId</th>\n",
       "      <th>LabelConfidencePairs</th>\n",
       "    </tr>\n",
       "  </thead>\n",
       "  <tbody>\n",
       "    <tr>\n",
       "      <th>0</th>\n",
       "      <td>000c</td>\n",
       "      <td>1 0.5 2 0.3 3 0.1 4 0.05 5 0.05</td>\n",
       "    </tr>\n",
       "    <tr>\n",
       "      <th>1</th>\n",
       "      <td>000x</td>\n",
       "      <td>1 0.5 2 0.3 3 0.1 4 0.05 5 0.05</td>\n",
       "    </tr>\n",
       "    <tr>\n",
       "      <th>2</th>\n",
       "      <td>001N</td>\n",
       "      <td>1 0.5 2 0.3 3 0.1 4 0.05 5 0.05</td>\n",
       "    </tr>\n",
       "  </tbody>\n",
       "</table>\n",
       "</div>"
      ],
      "text/plain": [
       "  VideoId             LabelConfidencePairs\n",
       "0    000c  1 0.5 2 0.3 3 0.1 4 0.05 5 0.05\n",
       "1    000x  1 0.5 2 0.3 3 0.1 4 0.05 5 0.05\n",
       "2    001N  1 0.5 2 0.3 3 0.1 4 0.05 5 0.05"
      ]
     },
     "execution_count": 10,
     "metadata": {},
     "output_type": "execute_result"
    }
   ],
   "source": [
    "df_sub = pd.read_csv(p_test); df_sub.head(3)"
   ]
  },
  {
   "cell_type": "raw",
   "metadata": {
    "_uuid": "796e89e59aae77364f8e193aea998aee772661b8"
   },
   "source": [
    "df_sub = pd.read_csv(test); df_sub.head(3)"
   ]
  },
  {
   "cell_type": "markdown",
   "metadata": {
    "_uuid": "f1c5a2308e6844d502790bcc9ce2b021edafb1a7"
   },
   "source": [
    "`Video Id` appears to hold the video index namefrom the tf data that we will look at next. The `LabelConfidencePairs` are a little harder to decipher. For example, index 0 has a set of predictions  `[1 0.0] [2 0.3][3 0.2]...`  The first value represents the guess for the label and the second value represents the probability of that label given the probability of it being other labels."
   ]
  },
  {
   "cell_type": "markdown",
   "metadata": {
    "_uuid": "debd959fc065988b7b952dd8fc9f8663f7966508"
   },
   "source": [
    "# 2. tfRecord Files"
   ]
  },
  {
   "cell_type": "markdown",
   "metadata": {
    "_uuid": "7a748c0640f708326497c8ab285daca95fb5bdf1"
   },
   "source": [
    "Tensorflow uses tfRecord files to store data in binary string format. Binary strings are very efficient with regards to big data because binary data takes up less physical space. tfRecord files can also be accessed in batch format, which is helpful in cases where memory is an issue. Considering that the full size of the data set is approximately 14 Tb, it's easy to understand the need for tfRecord files. In this situation, we will iterate through the example tfrecord files to understand the data structure and to run some basic analyses."
   ]
  },
  {
   "cell_type": "code",
   "execution_count": 11,
   "metadata": {
    "_uuid": "718696b9fc5943684c89230df34fd87c33d93990"
   },
   "outputs": [
    {
     "name": "stdout",
     "output_type": "stream",
     "text": [
      "WARNING:tensorflow:From <ipython-input-11-a7b0cd8ae1ba>:3: tf_record_iterator (from tensorflow.python.lib.io.tf_record) is deprecated and will be removed in a future version.\n",
      "Instructions for updating:\n",
      "Use eager execution and: \n",
      "`tf.data.TFRecordDataset(path)`\n",
      "train00.tfrecord video count: 1015\n"
     ]
    }
   ],
   "source": [
    "v_vid_ids,v_labels,v_mean_rgb,v_mean_audio = [],[],[],[]\n",
    "\n",
    "for train_v in tf.python_io.tf_record_iterator(train_video[0]):\n",
    "    tf_v= tf.train.Example.FromString(train_v)\n",
    "    v_vid_ids.append(tf_v.features.feature['id'].bytes_list.value[0].decode(encoding='UTF-8'))\n",
    "    v_labels.append(tf_v.features.feature['labels'].int64_list.value)\n",
    "    v_mean_rgb.append(tf_v.features.feature['mean_rgb'].float_list.value)\n",
    "    v_mean_audio.append(tf_v.features.feature['mean_audio'].float_list.value)\n",
    "print(f'train00.tfrecord video count: {len(v_mean_rgb)}')"
   ]
  },
  {
   "cell_type": "markdown",
   "metadata": {
    "_uuid": "400c1f6ced30252b060d16f948cc3613b4fff65d"
   },
   "source": [
    "Now that we have captured the data. Lets take a quick look at the dimensions of some of the values we captured:"
   ]
  },
  {
   "cell_type": "code",
   "execution_count": 12,
   "metadata": {
    "_uuid": "39f4bc93a1ee631a782551deaffdd0a551e5323b"
   },
   "outputs": [
    {
     "name": "stdout",
     "output_type": "stream",
     "text": [
      "YouTube id: RP00\n",
      "RP00 has 1024 v_mean_rgb vals.\n",
      "RP00 has 128 v_mean_audio vals.\n",
      "RP00 has 1 v_label vals. # varies from video to video\n"
     ]
    },
    {
     "data": {
      "image/jpeg": "[encoded data removed]",
      "text/html": [
       "\n",
       "        <iframe\n",
       "            width=\"300\"\n",
       "            height=\"200\"\n",
       "            src=\"https://www.youtube.com/embed/r5666qRbiV4\"\n",
       "            frameborder=\"0\"\n",
       "            allowfullscreen\n",
       "        ></iframe>\n",
       "        "
      ],
      "text/plain": [
       "<IPython.lib.display.YouTubeVideo at 0x7f34e87dbd30>"
      ]
     },
     "metadata": {},
     "output_type": "display_data"
    }
   ],
   "source": [
    "r_i = randint(0,len(v_mean_rgb))\n",
    "print(f'YouTube id: {v_vid_ids[r_i]}')\n",
    "print(f'{v_vid_ids[r_i]} has {len(v_mean_rgb[r_i])} v_mean_rgb vals.')\n",
    "print(f'{v_vid_ids[r_i]} has {len(v_mean_audio[r_i])} v_mean_audio vals.')\n",
    "print(f'{v_vid_ids[r_i]} has {len(v_labels[r_i])} v_label vals. # varies from video to video')\n",
    "url_id = f\"http://data.yt8m.org/2/j/i/{v_vid_ids[r_i][0:2]}/{v_vid_ids[r_i]}.js\"\n",
    "f = urllib.request.urlopen(url_id)\n",
    "key = f.read().decode(\"utf-8\")[10:-3]\n",
    "vid = YouTubeVideo(key,width=300, height=200)\n",
    "display(vid)"
   ]
  },
  {
   "cell_type": "markdown",
   "metadata": {
    "_uuid": "9fab338e18a4160ef77d7b670ae3f3634a0c9947"
   },
   "source": [
    "All of the `mean_rgb` values and `mean_audio` values are a result of data pulled from videos like the one shown above. It is unclear how the `mean_rgb` and `mean_audio` values were derived, but it is likely that there will be some differences in these values based on the type of video."
   ]
  },
  {
   "cell_type": "markdown",
   "metadata": {
    "_uuid": "400c1f6ced30252b060d16f948cc3613b4fff65d"
   },
   "source": [
    "[Julia Elliot](https://www.kaggle.com/juliaelliott/starter-kernel-yt8m-2018-sample-data): \n",
    "> As described on the YouTube8M download page, for privacy reasons, the video id has been randomly generated and does not directly correspond to the actual YouTube video id. To convert the id into the actua YouTube video id, we follow link: http://data.yt8m.org/2/j/i/1r/1r00.js"
   ]
  },
  {
   "cell_type": "markdown",
   "metadata": {},
   "source": [
    "The end goal of a project like this is to create a model that will predict labels of YouTube videos based on the raw data provided. The efficiency of a model is most influenced by the data that is provided."
   ]
  },
  {
   "cell_type": "code",
   "execution_count": 13,
   "metadata": {
    "_uuid": "872358664f8f1d0bef2a39928c730c374656eea4"
   },
   "outputs": [
    {
     "data": {
      "text/html": [
       "<div>\n",
       "<style scoped>\n",
       "    .dataframe tbody tr th:only-of-type {\n",
       "        vertical-align: middle;\n",
       "    }\n",
       "\n",
       "    .dataframe tbody tr th {\n",
       "        vertical-align: top;\n",
       "    }\n",
       "\n",
       "    .dataframe thead th {\n",
       "        text-align: right;\n",
       "    }\n",
       "</style>\n",
       "<table border=\"1\" class=\"dataframe\">\n",
       "  <thead>\n",
       "    <tr style=\"text-align: right;\">\n",
       "      <th></th>\n",
       "      <th>0</th>\n",
       "      <th>1</th>\n",
       "      <th>2</th>\n",
       "      <th>3</th>\n",
       "      <th>4</th>\n",
       "      <th>5</th>\n",
       "      <th>6</th>\n",
       "      <th>7</th>\n",
       "      <th>8</th>\n",
       "      <th>9</th>\n",
       "      <th>10</th>\n",
       "      <th>11</th>\n",
       "      <th>12</th>\n",
       "      <th>13</th>\n",
       "      <th>14</th>\n",
       "      <th>15</th>\n",
       "      <th>16</th>\n",
       "      <th>17</th>\n",
       "      <th>18</th>\n",
       "      <th>19</th>\n",
       "      <th>20</th>\n",
       "      <th>21</th>\n",
       "      <th>22</th>\n",
       "      <th>23</th>\n",
       "      <th>24</th>\n",
       "      <th>25</th>\n",
       "      <th>26</th>\n",
       "      <th>27</th>\n",
       "      <th>28</th>\n",
       "      <th>29</th>\n",
       "      <th>30</th>\n",
       "      <th>31</th>\n",
       "      <th>32</th>\n",
       "      <th>33</th>\n",
       "      <th>34</th>\n",
       "      <th>35</th>\n",
       "      <th>36</th>\n",
       "      <th>37</th>\n",
       "      <th>38</th>\n",
       "      <th>39</th>\n",
       "      <th>...</th>\n",
       "      <th>984</th>\n",
       "      <th>985</th>\n",
       "      <th>986</th>\n",
       "      <th>987</th>\n",
       "      <th>988</th>\n",
       "      <th>989</th>\n",
       "      <th>990</th>\n",
       "      <th>991</th>\n",
       "      <th>992</th>\n",
       "      <th>993</th>\n",
       "      <th>994</th>\n",
       "      <th>995</th>\n",
       "      <th>996</th>\n",
       "      <th>997</th>\n",
       "      <th>998</th>\n",
       "      <th>999</th>\n",
       "      <th>1000</th>\n",
       "      <th>1001</th>\n",
       "      <th>1002</th>\n",
       "      <th>1003</th>\n",
       "      <th>1004</th>\n",
       "      <th>1005</th>\n",
       "      <th>1006</th>\n",
       "      <th>1007</th>\n",
       "      <th>1008</th>\n",
       "      <th>1009</th>\n",
       "      <th>1010</th>\n",
       "      <th>1011</th>\n",
       "      <th>1012</th>\n",
       "      <th>1013</th>\n",
       "      <th>1014</th>\n",
       "      <th>1015</th>\n",
       "      <th>1016</th>\n",
       "      <th>1017</th>\n",
       "      <th>1018</th>\n",
       "      <th>1019</th>\n",
       "      <th>1020</th>\n",
       "      <th>1021</th>\n",
       "      <th>1022</th>\n",
       "      <th>1023</th>\n",
       "    </tr>\n",
       "  </thead>\n",
       "  <tbody>\n",
       "    <tr>\n",
       "      <th>0</th>\n",
       "      <td>1.000000</td>\n",
       "      <td>-0.052172</td>\n",
       "      <td>-0.024176</td>\n",
       "      <td>-0.024619</td>\n",
       "      <td>-0.240410</td>\n",
       "      <td>-0.244139</td>\n",
       "      <td>0.006879</td>\n",
       "      <td>-0.084385</td>\n",
       "      <td>0.031035</td>\n",
       "      <td>0.050992</td>\n",
       "      <td>0.026283</td>\n",
       "      <td>-0.072185</td>\n",
       "      <td>-0.027575</td>\n",
       "      <td>-0.016816</td>\n",
       "      <td>0.101561</td>\n",
       "      <td>-0.016037</td>\n",
       "      <td>0.026146</td>\n",
       "      <td>0.017934</td>\n",
       "      <td>0.034705</td>\n",
       "      <td>-0.022551</td>\n",
       "      <td>0.012941</td>\n",
       "      <td>0.096802</td>\n",
       "      <td>0.077840</td>\n",
       "      <td>0.051744</td>\n",
       "      <td>0.010277</td>\n",
       "      <td>-0.065306</td>\n",
       "      <td>-0.041454</td>\n",
       "      <td>0.048330</td>\n",
       "      <td>-0.097211</td>\n",
       "      <td>0.053065</td>\n",
       "      <td>-0.100570</td>\n",
       "      <td>0.035786</td>\n",
       "      <td>-0.102345</td>\n",
       "      <td>-0.041330</td>\n",
       "      <td>0.093065</td>\n",
       "      <td>-0.099493</td>\n",
       "      <td>0.028640</td>\n",
       "      <td>-0.029753</td>\n",
       "      <td>-0.000242</td>\n",
       "      <td>-0.001884</td>\n",
       "      <td>...</td>\n",
       "      <td>0.029726</td>\n",
       "      <td>-0.027025</td>\n",
       "      <td>-0.003710</td>\n",
       "      <td>-0.001053</td>\n",
       "      <td>0.020230</td>\n",
       "      <td>0.010717</td>\n",
       "      <td>-0.001939</td>\n",
       "      <td>0.012578</td>\n",
       "      <td>-0.007952</td>\n",
       "      <td>-0.012820</td>\n",
       "      <td>-0.024903</td>\n",
       "      <td>-0.005523</td>\n",
       "      <td>-0.034855</td>\n",
       "      <td>0.022121</td>\n",
       "      <td>-0.029707</td>\n",
       "      <td>-0.025132</td>\n",
       "      <td>-0.037304</td>\n",
       "      <td>-0.015155</td>\n",
       "      <td>-0.008942</td>\n",
       "      <td>0.008288</td>\n",
       "      <td>-0.042576</td>\n",
       "      <td>-0.068764</td>\n",
       "      <td>0.008154</td>\n",
       "      <td>-0.086701</td>\n",
       "      <td>-0.008323</td>\n",
       "      <td>-0.020394</td>\n",
       "      <td>-0.018998</td>\n",
       "      <td>0.015807</td>\n",
       "      <td>0.012754</td>\n",
       "      <td>0.053526</td>\n",
       "      <td>-0.022940</td>\n",
       "      <td>0.030484</td>\n",
       "      <td>0.011066</td>\n",
       "      <td>-0.008444</td>\n",
       "      <td>-0.034370</td>\n",
       "      <td>-0.037358</td>\n",
       "      <td>-0.022839</td>\n",
       "      <td>0.042876</td>\n",
       "      <td>0.020418</td>\n",
       "      <td>-0.100664</td>\n",
       "    </tr>\n",
       "    <tr>\n",
       "      <th>1</th>\n",
       "      <td>-0.052172</td>\n",
       "      <td>1.000000</td>\n",
       "      <td>0.015463</td>\n",
       "      <td>-0.084140</td>\n",
       "      <td>-0.145714</td>\n",
       "      <td>0.077545</td>\n",
       "      <td>0.039018</td>\n",
       "      <td>0.139440</td>\n",
       "      <td>-0.060530</td>\n",
       "      <td>-0.001405</td>\n",
       "      <td>0.097446</td>\n",
       "      <td>-0.022813</td>\n",
       "      <td>-0.037377</td>\n",
       "      <td>-0.001830</td>\n",
       "      <td>0.048623</td>\n",
       "      <td>0.125084</td>\n",
       "      <td>0.060342</td>\n",
       "      <td>-0.006655</td>\n",
       "      <td>-0.027161</td>\n",
       "      <td>0.034375</td>\n",
       "      <td>-0.008356</td>\n",
       "      <td>-0.141592</td>\n",
       "      <td>-0.094412</td>\n",
       "      <td>0.024466</td>\n",
       "      <td>-0.101698</td>\n",
       "      <td>0.062277</td>\n",
       "      <td>0.019509</td>\n",
       "      <td>-0.031789</td>\n",
       "      <td>0.000442</td>\n",
       "      <td>-0.035826</td>\n",
       "      <td>-0.000229</td>\n",
       "      <td>-0.031368</td>\n",
       "      <td>0.048748</td>\n",
       "      <td>0.002921</td>\n",
       "      <td>-0.017297</td>\n",
       "      <td>-0.093505</td>\n",
       "      <td>0.062760</td>\n",
       "      <td>-0.003160</td>\n",
       "      <td>0.033139</td>\n",
       "      <td>-0.028203</td>\n",
       "      <td>...</td>\n",
       "      <td>0.032588</td>\n",
       "      <td>0.054253</td>\n",
       "      <td>-0.060720</td>\n",
       "      <td>-0.021160</td>\n",
       "      <td>-0.039699</td>\n",
       "      <td>0.009459</td>\n",
       "      <td>0.031942</td>\n",
       "      <td>-0.018800</td>\n",
       "      <td>-0.008595</td>\n",
       "      <td>0.019356</td>\n",
       "      <td>0.037045</td>\n",
       "      <td>-0.010018</td>\n",
       "      <td>-0.035847</td>\n",
       "      <td>-0.008280</td>\n",
       "      <td>-0.044951</td>\n",
       "      <td>0.005096</td>\n",
       "      <td>-0.078290</td>\n",
       "      <td>0.015423</td>\n",
       "      <td>0.017170</td>\n",
       "      <td>0.029735</td>\n",
       "      <td>-0.015199</td>\n",
       "      <td>-0.005525</td>\n",
       "      <td>-0.019924</td>\n",
       "      <td>0.031597</td>\n",
       "      <td>-0.016492</td>\n",
       "      <td>0.013330</td>\n",
       "      <td>0.071066</td>\n",
       "      <td>0.025117</td>\n",
       "      <td>0.014191</td>\n",
       "      <td>0.005197</td>\n",
       "      <td>0.010940</td>\n",
       "      <td>0.048624</td>\n",
       "      <td>0.069684</td>\n",
       "      <td>0.016983</td>\n",
       "      <td>0.001624</td>\n",
       "      <td>-0.019016</td>\n",
       "      <td>0.002736</td>\n",
       "      <td>-0.096957</td>\n",
       "      <td>-0.079349</td>\n",
       "      <td>-0.000890</td>\n",
       "    </tr>\n",
       "    <tr>\n",
       "      <th>2</th>\n",
       "      <td>-0.024176</td>\n",
       "      <td>0.015463</td>\n",
       "      <td>1.000000</td>\n",
       "      <td>-0.049129</td>\n",
       "      <td>0.020121</td>\n",
       "      <td>-0.003853</td>\n",
       "      <td>0.022471</td>\n",
       "      <td>-0.065167</td>\n",
       "      <td>-0.050948</td>\n",
       "      <td>0.028211</td>\n",
       "      <td>-0.048864</td>\n",
       "      <td>0.035483</td>\n",
       "      <td>0.078380</td>\n",
       "      <td>0.026253</td>\n",
       "      <td>-0.025027</td>\n",
       "      <td>-0.043209</td>\n",
       "      <td>-0.001971</td>\n",
       "      <td>0.035950</td>\n",
       "      <td>-0.024268</td>\n",
       "      <td>-0.056822</td>\n",
       "      <td>0.077138</td>\n",
       "      <td>-0.058770</td>\n",
       "      <td>0.073548</td>\n",
       "      <td>0.004530</td>\n",
       "      <td>-0.035774</td>\n",
       "      <td>0.040085</td>\n",
       "      <td>-0.029407</td>\n",
       "      <td>0.048292</td>\n",
       "      <td>-0.009639</td>\n",
       "      <td>0.032504</td>\n",
       "      <td>-0.002951</td>\n",
       "      <td>-0.010992</td>\n",
       "      <td>0.022661</td>\n",
       "      <td>0.004406</td>\n",
       "      <td>-0.027254</td>\n",
       "      <td>0.029189</td>\n",
       "      <td>0.010453</td>\n",
       "      <td>0.001356</td>\n",
       "      <td>0.038554</td>\n",
       "      <td>-0.005827</td>\n",
       "      <td>...</td>\n",
       "      <td>0.003083</td>\n",
       "      <td>-0.107632</td>\n",
       "      <td>-0.042138</td>\n",
       "      <td>-0.010293</td>\n",
       "      <td>-0.003025</td>\n",
       "      <td>0.018823</td>\n",
       "      <td>0.000868</td>\n",
       "      <td>0.010434</td>\n",
       "      <td>-0.071577</td>\n",
       "      <td>0.034803</td>\n",
       "      <td>-0.010309</td>\n",
       "      <td>-0.060979</td>\n",
       "      <td>0.004819</td>\n",
       "      <td>-0.048377</td>\n",
       "      <td>-0.023723</td>\n",
       "      <td>-0.037279</td>\n",
       "      <td>-0.032754</td>\n",
       "      <td>0.033511</td>\n",
       "      <td>-0.006133</td>\n",
       "      <td>-0.002075</td>\n",
       "      <td>-0.038292</td>\n",
       "      <td>0.004654</td>\n",
       "      <td>0.043480</td>\n",
       "      <td>-0.050498</td>\n",
       "      <td>0.029896</td>\n",
       "      <td>-0.015051</td>\n",
       "      <td>0.076239</td>\n",
       "      <td>0.024839</td>\n",
       "      <td>0.012367</td>\n",
       "      <td>0.064813</td>\n",
       "      <td>0.028643</td>\n",
       "      <td>0.084336</td>\n",
       "      <td>0.009952</td>\n",
       "      <td>0.020314</td>\n",
       "      <td>0.005424</td>\n",
       "      <td>-0.010047</td>\n",
       "      <td>0.057095</td>\n",
       "      <td>-0.015482</td>\n",
       "      <td>-0.046964</td>\n",
       "      <td>0.036730</td>\n",
       "    </tr>\n",
       "  </tbody>\n",
       "</table>\n",
       "</div>"
      ],
      "text/plain": [
       "       0         1         2       ...         1021      1022      1023\n",
       "0  1.000000 -0.052172 -0.024176    ...     0.042876  0.020418 -0.100664\n",
       "1 -0.052172  1.000000  0.015463    ...    -0.096957 -0.079349 -0.000890\n",
       "2 -0.024176  0.015463  1.000000    ...    -0.015482 -0.046964  0.036730\n",
       "\n",
       "[3 rows x 1024 columns]"
      ]
     },
     "execution_count": 13,
     "metadata": {},
     "output_type": "execute_result"
    }
   ],
   "source": [
    "d = pd.DataFrame(data=v_mean_rgb)\n",
    "corr_all = d.corr()\n",
    "corr_all.head(3)"
   ]
  },
  {
   "cell_type": "code",
   "execution_count": 14,
   "metadata": {
    "_uuid": "a0e105e1a4231fb2a1a1260b50ffb44dbcebaa1e"
   },
   "outputs": [
    {
     "name": "stdout",
     "output_type": "stream",
     "text": [
      "There are 0 values with a correlation greater than 0.3 and/or less than -0.3\n",
      "There are 10 values with a correllation greater than 0.2 and/or less than -0.2\n"
     ]
    }
   ],
   "source": [
    "c = 0\n",
    "r = [0.2,-0.2]\n",
    "for i in range(len(corr_all)):  # This is not an efficient algorithm/needs improvement\n",
    "    for j in range(len(corr_all.columns)): \n",
    "        if (corr_all.iloc[i,j] >r[0]) & (corr_all.iloc[i,j]<1):\n",
    "            c+=1\n",
    "        elif (corr_all.iloc[i,j] <r[1]) & (corr_all.iloc[i,j]<1):\n",
    "            c+=1\n",
    "print(f\"There are 0 values with a correlation greater than 0.3 and/or less than -0.3\")\n",
    "print(f\"There are {c} values with a correllation greater than {r[0]} and/or less than {r[1]}\")"
   ]
  },
  {
   "cell_type": "code",
   "execution_count": 15,
   "metadata": {
    "_uuid": "cfb37c93023f85107299a5318c2f34af15ba7e6f"
   },
   "outputs": [
    {
     "data": {
      "image/png": "[encoded data removed]",
      "text/plain": [
       "<Figure size 432x432 with 2 Axes>"
      ]
     },
     "metadata": {},
     "output_type": "display_data"
    },
    {
     "data": {
      "image/png": "[encoded data removed]",
      "text/plain": [
       "<Figure size 432x432 with 2 Axes>"
      ]
     },
     "metadata": {},
     "output_type": "display_data"
    }
   ],
   "source": [
    "first_100 = [i[0:50] for i in v_mean_rgb]\n",
    "d = pd.DataFrame(data=first_100)\n",
    "corr = d.corr()\n",
    "\n",
    "mask = np.zeros_like(corr, dtype=np.bool) # I'm not sure I understand this approach\n",
    "mask[np.triu_indices_from(mask)] = True   #\n",
    "\n",
    "f, ax = plt.subplots(figsize=(6, 6))\n",
    "sns.set_style('whitegrid')\n",
    "sns.heatmap(corr, mask=mask, cmap=color_choice, cbar_kws={\"shrink\": .6}, square=True,)\n",
    "plt.title('Correlation between columns in mean_rgb')\n",
    "plt.show()\n",
    "\n",
    "first_100 = [i[0:50] for i in v_mean_rgb]\n",
    "d = pd.DataFrame(data=first_100)\n",
    "corr = d.cov()\n",
    "\n",
    "mask = np.zeros_like(corr, dtype=np.bool) # I'm not sure I understand this approach\n",
    "mask[np.triu_indices_from(mask)] = True   #\n",
    "\n",
    "f, ax = plt.subplots(figsize=(6, 6))\n",
    "sns.set_style('whitegrid')\n",
    "sns.heatmap(corr, mask=mask, cmap=color_choice, cbar_kws={\"shrink\": .6}, square=True,)\n",
    "plt.title('Covariance between columns in mean_rgb')\n",
    "plt.show()"
   ]
  },
  {
   "cell_type": "code",
   "execution_count": 16,
   "metadata": {
    "_uuid": "261e27bace572311e297356d2709da91e35ae70e"
   },
   "outputs": [
    {
     "name": "stdout",
     "output_type": "stream",
     "text": [
      "f_audio: [], f_rgb: []\n"
     ]
    }
   ],
   "source": [
    "# Repeat the loading process for the train_frame section:\n",
    "f_vid_ids,f_labels,f_rgb,f_audio = [],[],[],[]\n",
    "\n",
    "for train_f in tf.python_io.tf_record_iterator(train_frame[0]):\n",
    "    train_f= tf.train.Example.FromString(train_f)\n",
    "    f_vid_ids.append(train_f.features.feature['id'])\n",
    "    f_labels.append(train_f.features.feature['labels'].int64_list.value)\n",
    "    f_rgb.append(train_f.features.feature['rgb'].float_list.value)\n",
    "    f_audio.append(train_f.features.feature['audio'].float_list.value)\n",
    "    \n",
    "print(f\"f_audio: {[i for i in f_audio if len(i)>0]}, f_rgb: {[i for i in f_rgb if len(i)>0]}\")"
   ]
  },
  {
   "cell_type": "markdown",
   "metadata": {
    "_uuid": "ed3970c845b9ddae90189cb803c1141766b75ae0"
   },
   "source": [
    "The `train_frame` tfRecord audio and rgb values lists are empty. Why do we even have this file and what exactly is a frame?"
   ]
  },
  {
   "cell_type": "markdown",
   "metadata": {
    "_uuid": "dad89fbba39bcad6adda302ff0a036f67333fcf4"
   },
   "source": [
    "## __3. Category Relationships__"
   ]
  },
  {
   "cell_type": "markdown",
   "metadata": {
    "_uuid": "91eaf4ae1c9445af4e1c5ea4c68b51296c0b9494"
   },
   "source": [
    "### __A. NetworkX__"
   ]
  },
  {
   "cell_type": "markdown",
   "metadata": {
    "_kg_hide-input": true
   },
   "source": [
    "NetworkX is a data visualization tool in Python that utilizes Social Network theory to visualize and/or calculate relationships between categorical. Graphing networks really only works in situations where categorical data appears next to each othereither a sequential fashion or a grouping fashion. In this case, YouTube videos appear to have multiple labels per video, so a network graph is very relevant. By using NetworkX we can confirm whether or not the labels in the YouTube data set have a meaningful relationship (i.e. to topics tend to cluster), and we can see which labels are more central/more distant in the network graphs."
   ]
  },
  {
   "cell_type": "code",
   "execution_count": 17,
   "metadata": {
    "_uuid": "a238d0e3b0371bd7a841091ccddf16cb2015bbb5"
   },
   "outputs": [],
   "source": [
    "# writing generators for practice\n",
    "def create_adjacency_matrix(vals):\n",
    "    # create adjacency.txt for easy networkx import\n",
    "    with open('adj.txt','w') as file:\n",
    "        for l in vals:\n",
    "            if len(l) > 1:\n",
    "                file.write('|'.join(l)+'\\n')\n",
    "                \n",
    "def get_label_check(it):\n",
    "    yield [list(df_labels.label_name[df_labels.label_id == i].values)[0] for i in it]\n",
    "    \n",
    "lab = (get_label_check(label) for label in v_labels)\n",
    "count = [i for it in lab for i in it]\n",
    "create_adjacency_matrix(count)\n",
    "G = nx.read_adjlist('adj.txt',delimiter='|')"
   ]
  },
  {
   "cell_type": "code",
   "execution_count": 18,
   "metadata": {
    "_uuid": "c300bcf2608a69055ae1bb574e4e94ce3c4d11fe",
    "scrolled": true
   },
   "outputs": [],
   "source": [
    "%%capture\n",
    "# Begin Visualization\n",
    "fig = plt.figure(figsize=(50,50))\n",
    "plt.title('Labels adjacency',size=15,color='darkblue')\n",
    "\n",
    "# draw edges\n",
    "pos = nx.kamada_kawai_layout(G)\n",
    "nx.draw_networkx_edges(G,pos=pos, edge_color='gray')\n",
    "nx.draw_networkx_nodes(G,pos=pos,node_size=10, node_color='gray')\n",
    "nx.draw_networkx_labels(G,pos=pos,font_size=7,font_color='darkblue')\n",
    "plt.savefig('big_network.png')\n",
    "\n",
    "img = Image.open(\"big_network.png\")\n",
    "area = (1500, 800, 2000, 1500)\n",
    "cropped_img = img.crop(area)\n",
    "cropped_img.save('big_network_crop.png')"
   ]
  },
  {
   "cell_type": "markdown",
   "metadata": {
    "_uuid": "42664cc6a5097842a55d3c5f28409517d7b01277"
   },
   "source": [
    "<img src=\"big_network.png\" alt=\"Statistical Chart\" style=\"width: 4000px;\"/>\n",
    "<br>\n",
    "<img src=\"big_network_crop.png\" alt=\"Statistical Chart\" style=\"width: 600px;\"/>"
   ]
  },
  {
   "cell_type": "markdown",
   "metadata": {
    "_uuid": "f67e808b5f8b5a53a0dea7385e5ddd0866d476c5"
   },
   "source": [
    "### __B. T-Distributed Stochastic Neighbor Embedding (TSNE)__"
   ]
  },
  {
   "cell_type": "markdown",
   "metadata": {},
   "source": [
    "Because the `mean_rgb` and `mean_audio` data have 100+ columns, it is hard to visualize the relationship between the videos and their rgb/audio data. In this case, TSNE [(source)](http://www.jmlr.org/papers/volume9/vandermaaten08a/vandermaaten08a.pdf) is helpful as it provides a method for reducing the data's dimensionality (i.e. number of columns) to a lower number of dimensions (in this case, 2 dimensions). By reducing dimensionality, it is possible to visualize the data on the X/Y axes (while using colors to represent video categories). <br><br>Examples of alternative methods for reducing dimensionality are RFE, PCA, and SVD. These methods, however, operate by either eliminating dimensions (removing columns) or by finding latent dimensions (removing all columns and creating a smaller subset of new columns). The goal here is simply to visualize the data so as to better understand how groups relate to each other."
   ]
  },
  {
   "cell_type": "markdown",
   "metadata": {},
   "source": [
    "__How it works:__ TSNE operates on conditional probabilities. TSNE uses the Stochastic Neighbor Embedding (SNE) method to calculate pairwise similarity from conditional probabilities derived from Euclidean distances between points. of point similarity in the original dimensions and compares the results of those probablities when mapped to lower dimensions. TSNE is similar to other ML methods in that it uses a gradient descent method with a cost function that adjusts the model until optimal values are found. T in TSNE indicates that the model is built to follow the parameters of the Student T-distribution instead of the Gaussian distribution."
   ]
  },
  {
   "cell_type": "markdown",
   "metadata": {},
   "source": [
    "__Drawbacks:__"
   ]
  },
  {
   "cell_type": "code",
   "execution_count": null,
   "metadata": {
    "_uuid": "b11c404a003daa1e2559306a8ac488d6f0152d6e"
   },
   "outputs": [],
   "source": [
    "# function to return the index of the video if it has n label\n",
    "def label_indices(labels_list, i_r):\n",
    "    labs = tuple(zip(df_labels['label_id'].iloc[i_r].values,df_labels['label_name'].iloc[i_r].values))\n",
    "\n",
    "    label_indices = {}\n",
    "    for l in labs:\n",
    "        s_l =[]\n",
    "        for i,j in enumerate(labels_list):  \n",
    "            if l[0] in j:\n",
    "                s_l.append(i)\n",
    "        label_indices[l[1]] = s_l\n",
    "    return label_indices"
   ]
  },
  {
   "cell_type": "markdown",
   "metadata": {
    "_uuid": "e207f9509a052ed6103590aee7c2876b47f0f76f"
   },
   "source": [
    "Lets setup [T-SNE](https://scikit-learn.org/stable/modules/generated/sklearn.manifold.TSNE.html) to address the problem of n dimensions being shown on a 2d graph. T-SNE attempts to reduce divergence from join probabilities of features. "
   ]
  },
  {
   "cell_type": "code",
   "execution_count": null,
   "metadata": {
    "_uuid": "43e7483feefd09e2d06e1ac1967ad171405e9eda"
   },
   "outputs": [],
   "source": [
    "def tsne_reduce(X,y):\n",
    "    tsne = TSNE(n_components=2, random_state=42,learning_rate=250)\n",
    "    df = pd.DataFrame(tsne.fit_transform(X))\n",
    "    df['y'] = y\n",
    "    return df"
   ]
  },
  {
   "cell_type": "markdown",
   "metadata": {},
   "source": [
    "#### A. Mean_RGB"
   ]
  },
  {
   "cell_type": "markdown",
   "metadata": {
    "_uuid": "875d4bfda9e29b144d3dc531a6f6d7a65873c517"
   },
   "source": [
    "The next step is to remove all `mean_rgb` values that don't have a label from the list of top n labels. We will use t-sne to reduce the dimensionality of the data from `1024` to `2` so that we can map the data to the `X` and `Y` axis."
   ]
  },
  {
   "cell_type": "code",
   "execution_count": null,
   "metadata": {
    "_uuid": "a5bf53a5dba9d641073544dd8d939365b29c022d"
   },
   "outputs": [],
   "source": [
    "n_labels = 4\n",
    "top_indices = label_indices(v_labels, range(0,n_labels))\n",
    "top_labels = df_labels['label_name'][0:n_labels].values\n",
    "top_v_mean_rgb,label_column = [], []\n",
    "for k in top_indices.keys():\n",
    "    [label_column.append(k) for i in top_indices[k]]\n",
    "    [top_v_mean_rgb.append(v_mean_rgb[i]) for i in top_indices[k]]\n",
    "\n",
    "df_tsne = tsne_reduce(top_v_mean_rgb,label_column)\n",
    "\n",
    "plt.figure(figsize=(6, 6))\n",
    "colors = 'r', 'g', 'b', 'c', 'm', 'y', 'k', 'cyan', 'orange', 'purple'\n",
    "for i, c, label in zip(range(0,n_labels),colors[0:n_labels], top_labels):\n",
    "    plt.scatter(df_tsne[0][df_tsne['y']==label], df_tsne[1][df_tsne['y']==label], c=[cmap(i/n_labels)], label=top_labels)\n",
    "plt.legend(top_labels)\n",
    "plt.title(f'T-SNE [RGB] of top {n_labels} names')\n",
    "plt.show()"
   ]
  },
  {
   "cell_type": "markdown",
   "metadata": {
    "_uuid": "3bd4b3bf423b477a88184f0e452622f577581f29"
   },
   "source": [
    "From this visualization there are clear clusters for <span style=\"color:darkblue\">Game</span> , <span style=\"color:darkblue\">Vehicle</span> , and <span style=\"color:darkblue\">Concert</span> . However, <span style=\"color:darkblue\">Video game</span>  is virtually all over the place. This might indicate that videos with the <span style=\"color:darkblue\">Video game</span>  tag might be more difficult to identify and predict (assuming that the model accounts for this largely imbalanced data set). <br><br>\n",
    "\n",
    "Another interesting aspect of this data set is that it shows one extreme outlier under the <span style=\"color:darkblue\">Concert</span> category. It might be worth investigating whether or not we can find this unique concert value as watching the video with this outlier could shine some light into the background on the `mean_rgb` values."
   ]
  },
  {
   "cell_type": "markdown",
   "metadata": {
    "_uuid": "2e15920b62a470efc63880c35b84ee30d3cb19e6"
   },
   "source": [
    "Let's find the outlier:"
   ]
  },
  {
   "cell_type": "code",
   "execution_count": null,
   "metadata": {
    "_uuid": "7518e9592a109657cd086e6ba7160714f8ae7aec"
   },
   "outputs": [],
   "source": [
    "df_tsne[df_tsne['y']=='Concert' ][df_tsne[1]>70]"
   ]
  },
  {
   "cell_type": "markdown",
   "metadata": {
    "_uuid": "a65f27b78dbcc97eb73da8f96371ac35169a287a"
   },
   "source": [
    "And get the index from that outlier for the main list of youtube videos:"
   ]
  },
  {
   "cell_type": "code",
   "execution_count": null,
   "metadata": {
    "_uuid": "7aee9279097e81ab87e493af1f14acf2473edccd"
   },
   "outputs": [],
   "source": [
    "outlier_index = df_tsne[df_tsne['y']=='Concert'][df_tsne[1]>70].index[0]\n",
    "print(f\"The outlier is at index for df_tsne: {outlier_index}\")\n",
    "outlier_index -= df_tsne[df_tsne['y']=='Concert'].index[0]\n",
    "outlier = top_indices[k][8]\n",
    "print(f\"The outlier is at index for v_mean_rgb: {top_indices[k][8]}\")"
   ]
  },
  {
   "cell_type": "code",
   "execution_count": null,
   "metadata": {
    "_uuid": "d7f8cd0e2f0cd09ffa08996c547e2c625bccd82d"
   },
   "outputs": [],
   "source": [
    "n_labels = 4\n",
    "top_indices = label_indices(v_labels, range(0,n_labels))\n",
    "top_labels = df_labels['label_name'][0:n_labels].values\n",
    "top_v_mean_rgb,label_column = [], []\n",
    "for k in top_indices.keys():\n",
    "    [label_column.append(k) for i in top_indices[k] if i != outlier]\n",
    "    [top_v_mean_rgb.append(v_mean_rgb[i]) for i in top_indices[k] if i != outlier]\n",
    "\n",
    "df_tsne = tsne_reduce(top_v_mean_rgb,label_column)\n",
    "\n",
    "plt.figure(figsize=(6, 6))\n",
    "for i, c, label in zip(range(0,n_labels),colors[0:n_labels], top_labels):\n",
    "    plt.scatter(df_tsne[0][df_tsne['y']==label], df_tsne[1][df_tsne['y']==label], c=[cmap(i/n_labels)], label=top_labels)\n",
    "plt.legend(top_labels)\n",
    "plt.title(f'T-SNE [RGB] of top {n_labels} names')\n",
    "plt.show()"
   ]
  },
  {
   "cell_type": "code",
   "execution_count": null,
   "metadata": {
    "_uuid": "609164c10d95892d650054bc63129084d44517bf"
   },
   "outputs": [],
   "source": [
    "url_id = f\"http://data.yt8m.org/2/j/i/{v_vid_ids[outlier][0:2]}/{v_vid_ids[outlier]}.js\"\n",
    "f = urllib.request.urlopen(url_id)\n",
    "key = f.read().decode(\"utf-8\")[10:-3]\n",
    "vid = YouTubeVideo(key,width=200, height=150)\n",
    "print(f'Outlier ID: {v_vid_ids[outlier]}')\n",
    "display(vid)"
   ]
  },
  {
   "cell_type": "markdown",
   "metadata": {},
   "source": [
    "Looking at the video, there are a lot of things that stand out. It appears that the top and bottom half of the scene is mostly black and that only the middle third portion contains content. As the video progresses, nothing in the video appears to change. The video is almost static with only small changes in movement near the center of the video. From these observations, it could be posssible that the video is an outlier because of either the black borders or because of the lack of change in the video.<br><br>\n",
    "Next, let's compare this video to other categories that have a similar label so as to see if this is observed in other videos:"
   ]
  },
  {
   "cell_type": "code",
   "execution_count": null,
   "metadata": {},
   "outputs": [],
   "source": [
    "l_normals = [0,1,2,10,11,-3,-2,-1]\n",
    "for i in l_normals:\n",
    "    try:\n",
    "        normal_value = v_vid_ids[top_indices['Concert'][i]]\n",
    "        url_id = f\"http://data.yt8m.org/2/j/i/{normal_value[0:2]}/{normal_value}.js\"\n",
    "        f = urllib.request.urlopen(url_id)\n",
    "        key = f.read().decode(\"utf-8\")[10:-3]\n",
    "        print(f\"Normal Video ID: {normal_value}\")\n",
    "        vid = YouTubeVideo(key,width=150, height=100)\n",
    "        display(vid)\n",
    "    except:\n",
    "        continue"
   ]
  },
  {
   "cell_type": "markdown",
   "metadata": {},
   "source": [
    "None of the example videos above exhibit the same tendencies as the first outlier video. I suspect that this might indicate that the mean_rgb values do reflect some averaging of colors based on rgb changes and/or average rgb values per pixel."
   ]
  },
  {
   "cell_type": "markdown",
   "metadata": {},
   "source": [
    "#### A. Mean_Audio"
   ]
  },
  {
   "cell_type": "markdown",
   "metadata": {
    "_uuid": "875d4bfda9e29b144d3dc531a6f6d7a65873c517"
   },
   "source": [
    "The next step is to remove all `mean_rgb` values that don't have a label from the list of top n labels. We will use t-sne to reduce the dimensionality of the data from `1024` to `2` so that we can map the data to the `X` and `Y` axis."
   ]
  },
  {
   "cell_type": "code",
   "execution_count": null,
   "metadata": {
    "_uuid": "a5bf53a5dba9d641073544dd8d939365b29c022d"
   },
   "outputs": [],
   "source": [
    "n_labels = 4\n",
    "top_indices = label_indices(v_labels, range(0,n_labels))\n",
    "top_labels = df_labels['label_name'][0:n_labels].values\n",
    "top_v_mean_audio,label_column = [], []\n",
    "for k in top_indices.keys():\n",
    "    [label_column.append(k) for i in top_indices[k]]\n",
    "    [top_v_mean_audio.append(v_mean_audio[i]) for i in top_indices[k]]\n",
    "\n",
    "df_tsne = tsne_reduce(top_v_mean_audio,label_column)\n",
    "\n",
    "plt.figure(figsize=(6, 6))\n",
    "colors = 'r', 'g', 'b', 'c', 'm', 'y', 'k', 'cyan', 'orange', 'purple'\n",
    "for i, c, label in zip(range(0,n_labels),colors[0:n_labels], top_labels):\n",
    "    plt.scatter(df_tsne[0][df_tsne['y']==label], df_tsne[1][df_tsne['y']==label], c=[cmap(i/n_labels)], label=top_labels)\n",
    "plt.legend(top_labels)\n",
    "plt.title(f'T-SNE [Audio] of top {n_labels} names')\n",
    "plt.show()"
   ]
  },
  {
   "cell_type": "markdown",
   "metadata": {
    "_uuid": "89176752b0f25992e0f94788c421736ba46e8fe8"
   },
   "source": [
    "# 4. Statistical Inference"
   ]
  },
  {
   "cell_type": "markdown",
   "metadata": {
    "_uuid": "ffa1b52278a347adb6a9090d6275cdb9f9bd46ca"
   },
   "source": [
    "The first step is to declare a few functions that will make it easier to navigate the data."
   ]
  },
  {
   "cell_type": "code",
   "execution_count": null,
   "metadata": {
    "_uuid": "8bf47227c24551533d764e3b08eeebd88f03b5bb"
   },
   "outputs": [],
   "source": [
    "# function to return the melted dataframe (i.e. assign labels as a discrete value) \n",
    "def df_transform_sns(df,l):\n",
    "    df_new = pd.DataFrame(df).mean().reset_index()\n",
    "    df_new.columns = ['index','all']\n",
    "    for k in list(top_indices.keys()):\n",
    "        df_new[k] = pd.DataFrame([df[i] for i in top_indices[k]]).mean()\n",
    "    return df_new[l].melt(id_vars=['index'])\n",
    "\n",
    "# function to vizualize the data using labels and index as parameters\n",
    "def visualize_data(df, labels,ind):\n",
    "    plt.figure(figsize=(10,4))\n",
    "    sns.set_style('white')\n",
    "    c_index=[0,.35,.5]\n",
    "    cmap = matplotlib.cm.get_cmap(color_choice)\n",
    "    i=0\n",
    "    for label in labels:\n",
    "        sns.kdeplot(samples[label][ind],label=label,color=cmap(i/2),shade=True)\n",
    "        i+=1\n",
    "    plt.legend()\n",
    "    plt.show()"
   ]
  },
  {
   "cell_type": "markdown",
   "metadata": {
    "_uuid": "b94161fefaf69aa831425cef222971feb62edefd"
   },
   "source": [
    "The next step is to take a look at how YouTube videos with the labels 'Game', 'Video game', and 'Vehicle' differ from one another. Let's plot the mean_rgb values and mean_audio values on a scatter plot using lmplot from Seaborn."
   ]
  },
  {
   "cell_type": "code",
   "execution_count": null,
   "metadata": {
    "_uuid": "2bf46af167131f4f7ca600a2cf6ff659d9e4d7db",
    "scrolled": true
   },
   "outputs": [],
   "source": [
    "# assign indices to the top ten most common labels\n",
    "top_indices = label_indices(v_labels, range(0,10))\n",
    "explore_labels = ['index','Game','Video game','Vehicle']\n",
    "params = {\"x\": \"index\", \n",
    "          \"y\": \"value\", \n",
    "          \"hue\": \"variable\",\n",
    "          \"height\":6,\n",
    "          \"aspect\":2.5, \n",
    "          \"palette\":color_choice, \n",
    "          \"scatter_kws\":dict(s=20, alpha=0.8)}\n",
    "\n",
    "# create a df and visualize the the differences between three labels for mean_rgb\n",
    "\n",
    "sub_df = df_transform_sns(v_mean_rgb,explore_labels)\n",
    "\n",
    "sns.lmplot(**params,data=sub_df).set(xlim=(-1, 1030), ylim=(-.7,.7))\n",
    "plt.title(\"Average value per column in mean_rgb (grouped by 'Name')\",size=20)\n",
    "plt.ylabel(\"Average value\")\n",
    "plt.xlabel('Column # in mean_rgb');\n",
    "\n",
    "sub_df = df_transform_sns(v_mean_audio,explore_labels)\n",
    "sns.lmplot(**params,data=sub_df).set(xlim=(-1, 130), ylim=(-.7,.7))\n",
    "plt.title(\"Average value per column in mean_audio (grouped by 'Name')\",size=20)\n",
    "plt.ylabel(\"Average value\")\n",
    "plt.xlabel('Column # in mean_audio');"
   ]
  },
  {
   "cell_type": "markdown",
   "metadata": {
    "_uuid": "9624b63fe539fa072a85e37ed8c775cd30e23467"
   },
   "source": [
    "Both scatter plots show some interesting data. It appears that the mean average value of each label at the `N` feature level shows much more variability in the first 10% of features than in the last 90%. We should explore the samples (from different labels) from the first 10% of features to see how they relate and/or vary from one another"
   ]
  },
  {
   "cell_type": "markdown",
   "metadata": {
    "_uuid": "11ec156c62491208a3ebf807b031398da6252f3b"
   },
   "source": [
    "Now for the fun part. Let's do some statistical tests to determine whether or not the samples are genuinely different from one another. The first step is to decide which test is most relevant. Below is the chart I used to decide which test to use (NOTE: This chart has been simplified and doesn't fully account for more complex variable relationships, but is a good start for this project). We are working with continuous data and we want to see if two particular labels are different from one another. At present, I don't know if the data is normal, or skewed. We need to figure that out next."
   ]
  },
  {
   "cell_type": "markdown",
   "metadata": {
    "_uuid": "b22bb7accb28d9ffe879fd10431623476b50d5f2"
   },
   "source": [
    "<img src=\"http://i0.wp.com/slideplayer.com/6538273/23/images/6/Flow+chart+of+commonly+used+statistical+tests.jpg\" alt=\"Statistical Chart\" style=\"width: 500px;\"/>"
   ]
  },
  {
   "cell_type": "markdown",
   "metadata": {
    "_uuid": "92a48b9019804300c1b1f5f0f20dfd1f72d78f41"
   },
   "source": [
    "### **Visualize Sample Distributions for Top 3 Labels**"
   ]
  },
  {
   "cell_type": "code",
   "execution_count": null,
   "metadata": {
    "_uuid": "d5a17d7a1352b6568bd92262bdb79b3b038548ad"
   },
   "outputs": [],
   "source": [
    "samples = {}\n",
    "for lab in ['Game', 'Video game', 'Vehicle']:\n",
    "    samples[lab] = ([[v_mean_rgb[i][u] for i in top_indices[lab]] for u in range(200)])"
   ]
  },
  {
   "cell_type": "code",
   "execution_count": null,
   "metadata": {
    "_uuid": "461ed9a742c7853f73035b50b665fdd8fa50d78d"
   },
   "outputs": [],
   "source": [
    "ind = 0\n",
    "labels = ['Game', 'Video game', 'Vehicle']\n",
    "visualize_data(samples,['Game', 'Video game', 'Vehicle'],ind)\n",
    "t, p = scipy.stats.ttest_ind(samples['Game'][ind],samples['Video game'][ind])\n",
    "print(f\"The samples '{labels[0]}' and '{labels[1]}' have a p-value of {p}\")\n",
    "t, p = scipy.stats.ttest_ind(samples['Game'][ind],samples['Vehicle'][ind])\n",
    "print(f\"The samples '{labels[0]}' and '{labels[2]}' have a p-value of {p}\")"
   ]
  },
  {
   "cell_type": "code",
   "execution_count": null,
   "metadata": {
    "_uuid": "2bd36157721b8c354fe5ae30e94a0473ddd72233"
   },
   "outputs": [],
   "source": [
    "ind = 199\n",
    "labels = ['Game', 'Video game', 'Vehicle']\n",
    "visualize_data(samples,['Game', 'Video game', 'Vehicle'],ind)\n",
    "t, p = scipy.stats.ttest_ind(samples['Game'][ind],samples['Video game'][ind])\n",
    "print(f\"The samples '{labels[0]}' and '{labels[1]}' have a p-value of {p}\")\n",
    "t, p = scipy.stats.ttest_ind(samples['Game'][ind],samples['Vehicle'][ind])\n",
    "print(f\"The samples '{labels[0]}' and '{labels[2]}' have a p-value of {p}\")"
   ]
  },
  {
   "cell_type": "markdown",
   "metadata": {
    "_uuid": "9c31527e6f29bd13a3bf93119709f49fea11d573"
   },
   "source": [
    "As you can see from both the p value of the t-test and from the visual display of the data, it is much more apparent with the early variables than the later variables. Early variables have an increased likelihood of being different samples, while later variables appear to have a much closer distribution shape."
   ]
  },
  {
   "cell_type": "markdown",
   "metadata": {
    "_uuid": "6f62ca33e7f632e75e9c4c860d5114b44e99a2bb"
   },
   "source": [
    "# 5. EDA Conclusion"
   ]
  },
  {
   "cell_type": "markdown",
   "metadata": {
    "_uuid": "de56fdce9489bbad7e2045c2964a10ff9702a76e"
   },
   "source": [
    "**What we learned:**\n",
    "1. The goal of the YouTube-8M data set is to create a model that makes predictions on a large data set (1.3 TB for the training set)\n",
    "1. The ground truth (predicted feature) is the video labels.\n",
    "2. The video labels are imbalanced and there is a large number of possible categorical values.\n",
    "3. The ground truth can have a range of labels (i.e. not just one label), and models need to be able to predict a potential range of labels.\n",
    "3. The features are continuous and appear to be both vectorized and normalized such that the original rgb/audio values are uknown\n",
    "4. The example training data is in both CSV and TF form and each video sample is around a 2-5mb.\n",
    "5. The mean value of early variables appear to hold more significant information than later variables\n",
    "\n",
    "**Unanswered Questions:**\n",
    "1. What is the purpose of the frame tfRecord file?\n",
    "2. What do the `Vertical1`, `Vertical2`, `Vertical3` features represent?\n",
    "3. What does the `KnowledgeGraphID` feature represent?\n",
    "\n",
    "**Next Steps:**\n",
    "Further check the hypothesis against more robust methods of feature analysis:\n",
    "1. Build a model to check prediction accuracy from the first 50 rows vs the remaining rows\n",
    "2. Use NMF and other feature reduction strategies to rank feature importance.\n"
   ]
  },
  {
   "cell_type": "raw",
   "metadata": {},
   "source": [
    "!pip install nbconvert  # already-installed (most probably)\n",
    "!apt install pandoc  # already-installed\n",
    "!apt install texlive-xetex -y  # this'll take a long time"
   ]
  },
  {
   "cell_type": "code",
   "execution_count": 30,
   "metadata": {},
   "outputs": [
    {
     "name": "stdout",
     "output_type": "stream",
     "text": [
      "__notebook_source__.ipynb  adj.txt  big_network.png  big_network_crop.png\n",
      "[NbConvertApp] Converting notebook __notebook_source__.ipynb to html\n",
      "[NbConvertApp] Executing notebook with kernel: python3\n",
      "[NbConvertApp] Writing 248832 bytes to __notebook_source__.html\n"
     ]
    }
   ],
   "source": [
    "!ls  # will output notebook name e.g. `__notebook_source__.ipynb`\n",
    "\n",
    "!jupyter nbconvert --execute --to html __notebook_source__.ipynb"
   ]
  },
  {
   "cell_type": "code",
   "execution_count": 34,
   "metadata": {},
   "outputs": [
    {
     "name": "stdout",
     "output_type": "stream",
     "text": [
      "https://transfer.sh/QnE0A/practice_build_code.html"
     ]
    }
   ],
   "source": [
    "!curl --upload-file __notebook_source__.html https://transfer.sh/practice_build_code.html"
   ]
  },
  {
   "cell_type": "code",
   "execution_count": null,
   "metadata": {},
   "outputs": [],
   "source": []
  },
  {
   "cell_type": "code",
   "execution_count": 1,
   "metadata": {},
   "outputs": [],
   "source": [
    "!pip freeze > requirements.txt"
   ]
  },
  {
   "cell_type": "code",
   "execution_count": 2,
   "metadata": {},
   "outputs": [
    {
     "name": "stdout",
     "output_type": "stream",
     "text": [
      "Requirement already satisfied: seaborn in /Users/ryan/.local/share/virtualenvs/segmentation-APSAkCPI/lib/python3.7/site-packages (0.9.0)\n",
      "Requirement already satisfied: numpy>=1.9.3 in /Users/ryan/.local/share/virtualenvs/segmentation-APSAkCPI/lib/python3.7/site-packages (from seaborn) (1.16.1)\n",
      "Requirement already satisfied: pandas>=0.15.2 in /Users/ryan/.local/share/virtualenvs/segmentation-APSAkCPI/lib/python3.7/site-packages (from seaborn) (0.24.1)\n",
      "Requirement already satisfied: scipy>=0.14.0 in /Users/ryan/.local/share/virtualenvs/segmentation-APSAkCPI/lib/python3.7/site-packages (from seaborn) (1.2.1)\n",
      "Requirement already satisfied: matplotlib>=1.4.3 in /Users/ryan/.local/share/virtualenvs/segmentation-APSAkCPI/lib/python3.7/site-packages (from seaborn) (3.0.3)\n",
      "Requirement already satisfied: pytz>=2011k in /Users/ryan/.local/share/virtualenvs/segmentation-APSAkCPI/lib/python3.7/site-packages (from pandas>=0.15.2->seaborn) (2018.9)\n",
      "Requirement already satisfied: python-dateutil>=2.5.0 in /Users/ryan/.local/share/virtualenvs/segmentation-APSAkCPI/lib/python3.7/site-packages (from pandas>=0.15.2->seaborn) (2.8.0)\n",
      "Requirement already satisfied: kiwisolver>=1.0.1 in /Users/ryan/.local/share/virtualenvs/segmentation-APSAkCPI/lib/python3.7/site-packages (from matplotlib>=1.4.3->seaborn) (1.0.1)\n",
      "Requirement already satisfied: pyparsing!=2.0.4,!=2.1.2,!=2.1.6,>=2.0.1 in /Users/ryan/.local/share/virtualenvs/segmentation-APSAkCPI/lib/python3.7/site-packages (from matplotlib>=1.4.3->seaborn) (2.3.1)\n",
      "Requirement already satisfied: cycler>=0.10 in /Users/ryan/.local/share/virtualenvs/segmentation-APSAkCPI/lib/python3.7/site-packages (from matplotlib>=1.4.3->seaborn) (0.10.0)\n",
      "Requirement already satisfied: six>=1.5 in /Users/ryan/.local/share/virtualenvs/segmentation-APSAkCPI/lib/python3.7/site-packages (from python-dateutil>=2.5.0->pandas>=0.15.2->seaborn) (1.12.0)\n",
      "Requirement already satisfied: setuptools in /Users/ryan/.local/share/virtualenvs/segmentation-APSAkCPI/lib/python3.7/site-packages (from kiwisolver>=1.0.1->matplotlib>=1.4.3->seaborn) (40.8.0)\n",
      "Uninstalling seaborn-0.9.0:\n",
      "  Would remove:\n",
      "    /Users/ryan/.local/share/virtualenvs/segmentation-APSAkCPI/lib/python3.7/site-packages/seaborn-0.9.0.dist-info/*\n",
      "    /Users/ryan/.local/share/virtualenvs/segmentation-APSAkCPI/lib/python3.7/site-packages/seaborn/*\n",
      "Proceed (y/n)? ^C\n",
      "\u001b[31mOperation cancelled by user\u001b[0m\n",
      "Requirement already satisfied: seaborn==0.9.0 in /Users/ryan/.local/share/virtualenvs/segmentation-APSAkCPI/lib/python3.7/site-packages (0.9.0)\n",
      "Requirement already satisfied: numpy>=1.9.3 in /Users/ryan/.local/share/virtualenvs/segmentation-APSAkCPI/lib/python3.7/site-packages (from seaborn==0.9.0) (1.16.1)\n",
      "Requirement already satisfied: matplotlib>=1.4.3 in /Users/ryan/.local/share/virtualenvs/segmentation-APSAkCPI/lib/python3.7/site-packages (from seaborn==0.9.0) (3.0.3)\n",
      "Requirement already satisfied: pandas>=0.15.2 in /Users/ryan/.local/share/virtualenvs/segmentation-APSAkCPI/lib/python3.7/site-packages (from seaborn==0.9.0) (0.24.1)\n",
      "Requirement already satisfied: scipy>=0.14.0 in /Users/ryan/.local/share/virtualenvs/segmentation-APSAkCPI/lib/python3.7/site-packages (from seaborn==0.9.0) (1.2.1)\n",
      "Requirement already satisfied: cycler>=0.10 in /Users/ryan/.local/share/virtualenvs/segmentation-APSAkCPI/lib/python3.7/site-packages (from matplotlib>=1.4.3->seaborn==0.9.0) (0.10.0)\n",
      "Requirement already satisfied: pyparsing!=2.0.4,!=2.1.2,!=2.1.6,>=2.0.1 in /Users/ryan/.local/share/virtualenvs/segmentation-APSAkCPI/lib/python3.7/site-packages (from matplotlib>=1.4.3->seaborn==0.9.0) (2.3.1)\n",
      "Requirement already satisfied: kiwisolver>=1.0.1 in /Users/ryan/.local/share/virtualenvs/segmentation-APSAkCPI/lib/python3.7/site-packages (from matplotlib>=1.4.3->seaborn==0.9.0) (1.0.1)\n",
      "Requirement already satisfied: python-dateutil>=2.1 in /Users/ryan/.local/share/virtualenvs/segmentation-APSAkCPI/lib/python3.7/site-packages (from matplotlib>=1.4.3->seaborn==0.9.0) (2.8.0)\n",
      "Requirement already satisfied: pytz>=2011k in /Users/ryan/.local/share/virtualenvs/segmentation-APSAkCPI/lib/python3.7/site-packages (from pandas>=0.15.2->seaborn==0.9.0) (2018.9)\n",
      "Requirement already satisfied: six in /Users/ryan/.local/share/virtualenvs/segmentation-APSAkCPI/lib/python3.7/site-packages (from cycler>=0.10->matplotlib>=1.4.3->seaborn==0.9.0) (1.12.0)\n",
      "Requirement already satisfied: setuptools in /Users/ryan/.local/share/virtualenvs/segmentation-APSAkCPI/lib/python3.7/site-packages (from kiwisolver>=1.0.1->matplotlib>=1.4.3->seaborn==0.9.0) (40.8.0)\n"
     ]
    }
   ],
   "source": [
    "!pip install seaborn\n",
    "!pip3 uninstall seaborn\n",
    "!pip3 install seaborn==0.9.0"
   ]
  },
  {
   "cell_type": "code",
   "execution_count": null,
   "metadata": {},
   "outputs": [],
   "source": [
    "!pip install seaborn\n",
    "!pip3 uninstall seaborn\n",
    "!yes | pip3 install seaborn==0.9.0"
   ]
  },
  {
   "cell_type": "code",
   "execution_count": null,
   "metadata": {},
   "outputs": [],
   "source": []
  }
 ],
 "metadata": {
  "kernelspec": {
   "display_name": "Python 3",
   "language": "python",
   "name": "python3"
  },
  "language_info": {
   "codemirror_mode": {
    "name": "ipython",
    "version": 3
   },
   "file_extension": ".py",
   "mimetype": "text/x-python",
   "name": "python",
   "nbconvert_exporter": "python",
   "pygments_lexer": "ipython3",
   "version": "3.7.0"
  }
 },
 "nbformat": 4,
 "nbformat_minor": 2
}
