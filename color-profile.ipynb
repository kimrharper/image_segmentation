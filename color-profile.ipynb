{
 "cells": [
  {
   "cell_type": "code",
   "execution_count": 625,
   "metadata": {},
   "outputs": [],
   "source": [
    "from PIL import Image\n",
    "import numpy as np\n",
    "import os\n",
    "import timeit\n",
    "from shutil import copyfile\n",
    "import time\n",
    "from collections import Counter\n",
    "\n",
    "dims = (600,400)\n",
    "work_path = os.getcwd()\n",
    "in_p = work_path+'/ADE20K_2016_07_26/images/training/a/airlock'\n",
    "out_p = work_path+'/demo/'\n",
    "clean_path = lambda f_p: '/'.join(f_p.split('/')[5:])\n",
    "\n",
    "# get rgbs\n",
    "c_v = lambda img: img.getcolors()\n",
    "get_colors = lambda img: [i[1] for i in c_v(img)]\n",
    "get_percentile = lambda img: ([i[0]/sum([i[0] for i in c_v(img)]) for i in c_v(p)])\n",
    "\n",
    "# quick pixel guess\n",
    "pixel_same = lambda pix,colors: True if (pix in colors) else False\n",
    "pixel_diff = lambda pix,colors: sum([(pix[i]-colors[i])**2 for i in range(0,2)])\n",
    "win_choice = lambda old, new: old if old[0]<=new[0] else new\n",
    "\n",
    "def guess_pix(pix, color_range):\n",
    "    if pixel_same(pix,color_range):\n",
    "        return pix\n",
    "    else:\n",
    "        win_val = (pixel_diff(pix, color_range[0]),0)\n",
    "        for i in range(1, len(color_range)):\n",
    "                win_val = win_choice(win_val, (pixel_diff(pix, color_range[i]),i))\n",
    "                return color_range[win_val[1]]\n",
    "\n",
    "# difficult pixel guess\n",
    "check_pix = lambda fl,l: l[4] if len(fl) == 0 else fl\n",
    "get_nearby_pix = lambda arr,r,c: [tuple(arr[r,c]) for r,c in ((i,j) for i in range(-1,2) for j in range(-1,2))]\n",
    "keep_real_pix = lambda l, cl: check_pix([rgb for rgb in l if rgb in cl],l)\n",
    "\n",
    "def assign_pixels(arr,colors,s):\n",
    "    new_arr = arr\n",
    "    for i in range(s[0]): \n",
    "        for j in range(s[1]):\n",
    "            if j not in [0,s[0]] or i not in [0,s[1]]:\n",
    "                new_arr[i][j] = Counter(keep_real_pix(get_nearby_pix(arr,1,1),colors)).most_common(1)[0][0]\n",
    "    return new_arr\n",
    "\n",
    "# save jpg file            \n",
    "def save_jpg(paths,dim):\n",
    "    os.makedirs(os.path.dirname(paths[1]+paths[0]), exist_ok=True)\n",
    "    with Image.open(paths[0]) as im:\n",
    "        im.resize(dim).save(paths[1]+paths[0])\n",
    "        \n",
    "# save segment file\n",
    "def save_segment(paths,dim):\n",
    "    with Image.open(paths[0]) as im:\n",
    "        s = np.array(im).shape\n",
    "        if (s[0]<dim[0]) or (s[1]<dim[1]):\n",
    "            im.resize(dim).save(paths[1]+paths[0])\n",
    "        else:\n",
    "            colors = get_colors(im)\n",
    "            im.thumbnail(dim, Image.ANTIALIAS)\n",
    "            im = np.array(im)\n",
    "            s = im.shape\n",
    "            if True:\n",
    "                im = assign_pixels(im,colors,s)\n",
    "            else:\n",
    "                im = np.array([guess_pix(tuple(p),colors) for p in im.reshape(s[0]*s[1],3)])\n",
    "            im = Image.fromarray(im.reshape(s).astype(np.uint8)).save(paths[1]+paths[0])\n",
    "            \n",
    "# file navigation\n",
    "def get_file_paths(w_path):\n",
    "    return (clean_path(p) for p in [os.path.join(dirpath, f)\n",
    "        for dirpath, dirnames, files in os.walk(w_path)\n",
    "        for f in files if f.endswith('.jpg')])\n",
    "\n",
    "def parse_folders(w_path):\n",
    "    start = time.time()\n",
    "    all_files = get_file_paths(w_path)\n",
    "    for f in all_files:\n",
    "        #resize main photo\n",
    "        print('/'.join(f.split('/')[2:]),end='')\n",
    "        save_jpg([f, out_p],dims)\n",
    "        \n",
    "        #resize segment photo\n",
    "        f_seg=f[:-4]+'_seg.png'\n",
    "        save_segment([f_seg,out_p], dims)   \n",
    "        \n",
    "        #copy text file\n",
    "        f_txt=f[:-4]+'_atr.txt'\n",
    "        copyfile(f_txt,out_p+f_txt)\n",
    "        print(' [\\x1b[34mDONE\\x1b[0m]')\n",
    "    end = time.time()\n",
    "    print(f'\\u001b[1mTIME ELAPSED:\\x1b[0m \\x1b[34m{end-start}\\x1b[0m')"
   ]
  },
  {
   "cell_type": "code",
   "execution_count": null,
   "metadata": {},
   "outputs": [
    {
     "name": "stdout",
     "output_type": "stream",
     "text": [
      "training/a/airlock/ADE_train_00001044.jpg [\u001b[34mDONE\u001b[0m]\n",
      "training/a/airlock/ADE_train_00001045.jpg [\u001b[34mDONE\u001b[0m]\n",
      "training/a/airlock/ADE_train_00001047.jpg [\u001b[34mDONE\u001b[0m]\n",
      "training/a/airlock/ADE_train_00001046.jpg [\u001b[34mDONE\u001b[0m]\n",
      "training/a/airlock/ADE_train_00001042.jpg [\u001b[34mDONE\u001b[0m]\n",
      "training/a/airlock/ADE_train_00001043.jpg"
     ]
    }
   ],
   "source": [
    "parse_folders(in_p)"
   ]
  },
  {
   "cell_type": "raw",
   "metadata": {},
   "source": [
    "a = (3,4,5)\n",
    "b = (4,5,7)\n",
    "c = (a,b)"
   ]
  },
  {
   "cell_type": "raw",
   "metadata": {},
   "source": []
  },
  {
   "cell_type": "raw",
   "metadata": {},
   "source": [
    "it = np.fromiter(chain.from_iterable(l for l in c),'i')"
   ]
  },
  {
   "cell_type": "raw",
   "metadata": {},
   "source": []
  },
  {
   "cell_type": "raw",
   "metadata": {},
   "source": [
    "image = Image.open('ADE_train_00008919_seg.png')\n",
    "colors = get_colors(image)\n",
    "practice_image = np.array(image)\n",
    "s = practice_image.shape"
   ]
  },
  {
   "cell_type": "raw",
   "metadata": {},
   "source": [
    "for i in range(s[0]):\n",
    "    \n",
    "    for j in range(s[1]):\n",
    "        if j not in [0,s[0]] or i not in [0,s[1]]:\n",
    "            colors = practice_image[]\n",
    "            practice_image[i][j]"
   ]
  },
  {
   "cell_type": "raw",
   "metadata": {},
   "source": []
  },
  {
   "cell_type": "raw",
   "metadata": {},
   "source": [
    "def save_segment(paths,dim):\n",
    "    with Image.open(paths[0]) as im:\n",
    "        s = np.array(im).shape\n",
    "        if (s[0]<dim[0]) or (s[1]<dim[1]):\n",
    "            im.resize(dim).save(paths[1]+paths[0])\n",
    "        else:\n",
    "            colors = get_colors(im)\n",
    "            im.thumbnail(dim, Image.ANTIALIAS)\n",
    "            im = np.array(im)\n",
    "            s = im.shape\n",
    "            im = assign_pixels(im,colors,s)\n",
    "            im = Image.fromarray(im.reshape(s).astype(np.uint8)).save(paths[1]+paths[0])"
   ]
  },
  {
   "cell_type": "raw",
   "metadata": {},
   "source": []
  },
  {
   "cell_type": "raw",
   "metadata": {},
   "source": []
  },
  {
   "cell_type": "raw",
   "metadata": {},
   "source": [
    "assign_pixels(practice_image, get_colors(image),s)"
   ]
  },
  {
   "cell_type": "code",
   "execution_count": null,
   "metadata": {},
   "outputs": [],
   "source": [
    "for i in range(s[0]): \n",
    "    for j in range(s[1]):\n",
    "        if j not in [0,s[0]] or i not in [0,s[1]]:\n",
    "            colors = practice_image[]\n",
    "            practice_image[i][j]"
   ]
  }
 ],
 "metadata": {
  "kernelspec": {
   "display_name": "Python 3",
   "language": "python",
   "name": "python3"
  },
  "language_info": {
   "codemirror_mode": {
    "name": "ipython",
    "version": 3
   },
   "file_extension": ".py",
   "mimetype": "text/x-python",
   "name": "python",
   "nbconvert_exporter": "python",
   "pygments_lexer": "ipython3",
   "version": "3.7.0"
  }
 },
 "nbformat": 4,
 "nbformat_minor": 2
}
