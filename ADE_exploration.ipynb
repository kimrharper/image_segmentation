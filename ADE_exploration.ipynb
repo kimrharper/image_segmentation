{
 "cells": [
  {
   "cell_type": "code",
   "execution_count": 57,
   "metadata": {},
   "outputs": [
    {
     "name": "stdout",
     "output_type": "stream",
     "text": [
      "Requirement already satisfied: matplotlib in /Users/ryan/.local/share/virtualenvs/segmentation-APSAkCPI/lib/python3.7/site-packages (3.0.3)\n",
      "Requirement already satisfied: numpy>=1.10.0 in /Users/ryan/.local/share/virtualenvs/segmentation-APSAkCPI/lib/python3.7/site-packages (from matplotlib) (1.16.1)\n",
      "Requirement already satisfied: python-dateutil>=2.1 in /Users/ryan/.local/share/virtualenvs/segmentation-APSAkCPI/lib/python3.7/site-packages (from matplotlib) (2.8.0)\n",
      "Requirement already satisfied: cycler>=0.10 in /Users/ryan/.local/share/virtualenvs/segmentation-APSAkCPI/lib/python3.7/site-packages (from matplotlib) (0.10.0)\n",
      "Requirement already satisfied: kiwisolver>=1.0.1 in /Users/ryan/.local/share/virtualenvs/segmentation-APSAkCPI/lib/python3.7/site-packages (from matplotlib) (1.0.1)\n",
      "Requirement already satisfied: pyparsing!=2.0.4,!=2.1.2,!=2.1.6,>=2.0.1 in /Users/ryan/.local/share/virtualenvs/segmentation-APSAkCPI/lib/python3.7/site-packages (from matplotlib) (2.3.1)\n",
      "Requirement already satisfied: six>=1.5 in /Users/ryan/.local/share/virtualenvs/segmentation-APSAkCPI/lib/python3.7/site-packages (from python-dateutil>=2.1->matplotlib) (1.12.0)\n",
      "Requirement already satisfied: setuptools in /Users/ryan/.local/share/virtualenvs/segmentation-APSAkCPI/lib/python3.7/site-packages (from kiwisolver>=1.0.1->matplotlib) (40.8.0)\n",
      "Requirement already satisfied: pandas in /Users/ryan/.local/share/virtualenvs/segmentation-APSAkCPI/lib/python3.7/site-packages (0.24.1)\n",
      "Requirement already satisfied: python-dateutil>=2.5.0 in /Users/ryan/.local/share/virtualenvs/segmentation-APSAkCPI/lib/python3.7/site-packages (from pandas) (2.8.0)\n",
      "Requirement already satisfied: numpy>=1.12.0 in /Users/ryan/.local/share/virtualenvs/segmentation-APSAkCPI/lib/python3.7/site-packages (from pandas) (1.16.1)\n",
      "Requirement already satisfied: pytz>=2011k in /Users/ryan/.local/share/virtualenvs/segmentation-APSAkCPI/lib/python3.7/site-packages (from pandas) (2018.9)\n",
      "Requirement already satisfied: six>=1.5 in /Users/ryan/.local/share/virtualenvs/segmentation-APSAkCPI/lib/python3.7/site-packages (from python-dateutil>=2.5.0->pandas) (1.12.0)\n",
      "Collecting numpyimport\n",
      "\u001b[31m  Could not find a version that satisfies the requirement numpyimport (from versions: )\u001b[0m\n",
      "\u001b[31mNo matching distribution found for numpyimport\u001b[0m\n",
      "\u001b[34mImage_df Columns:\u001b[0m\n",
      "                 filename                                             folder  \\\n",
      "0  ADE_train_00000001.jpg  ADE20K_2016_07_26/images/training/a/airport_te...   \n",
      "1  ADE_train_00000002.jpg  ADE20K_2016_07_26/images/training/a/airport_te...   \n",
      "\n",
      "              scene  typeset  \n",
      "0  airport_terminal        1  \n",
      "1  airport_terminal        1  \n",
      "\n",
      "\n",
      "\u001b[34mImage_df Filename List:\u001b[0m\n",
      "['ADE_train_00000001.jpg' 'ADE_train_00000002.jpg'\n",
      " 'ADE_train_00000003.jpg' ... 'ADE_val_00001998.jpg'\n",
      " 'ADE_val_00001999.jpg' 'ADE_val_00002000.jpg']\n",
      "\n",
      "\n",
      "\u001b[34mImage_df Scene Counts:\u001b[0m\n",
      "('~not labeled', 2477)\n",
      "('street', 2241)\n",
      "('bedroom', 1528)\n",
      "('living_room', 767)\n",
      "('bathroom', 738)\n",
      "('kitchen', 718)\n",
      "('dining_room', 454)\n",
      "('skyscraper', 351)\n",
      "('highway', 325)\n",
      "('building_facade', 251)\n",
      "('conference_room', 184)\n",
      "('hotel_room', 176)\n",
      "('mountain_snowy', 143)\n",
      "('office', 123)\n",
      "('corridor', 122)\n"
     ]
    }
   ],
   "source": [
    "#install dependencies\n",
    "\n",
    "!pip install matplotlib\n",
    "!pip install pandas\n",
    "!pip install numpyimport\n",
    "\n",
    "#import libraries\n",
    "import pandas as pd\n",
    "import matplotlib.pyplot as plt\n",
    "import numpy as np\n",
    "from collections import Counter\n",
    "\n",
    "#load data (using unzip folder path subdirectory)\n",
    "image_df = pd.read_csv('index_ade20k_csv/ADE20K_index_image.csv')\n",
    "\n",
    "# Explore data\n",
    "\n",
    "# Look at image_df columns\n",
    "print('\\x1b[34mImage_df Columns:\\x1b[0m')\n",
    "print(image_df.head(2))\n",
    "print('\\n')\n",
    "\n",
    "# Look at filename list\n",
    "print('\\x1b[34mImage_df Filename List:\\x1b[0m')\n",
    "print(image_df['filename'].values)\n",
    "print('\\n')\n",
    "\n",
    "# Count number of scenes\n",
    "print('\\x1b[34mImage_df Scene Counts:\\x1b[0m')\n",
    "[print(str(i)) for i in Counter(image_df['scene'].values).most_common(15)];"
   ]
  },
  {
   "cell_type": "code",
   "execution_count": null,
   "metadata": {},
   "outputs": [],
   "source": []
  }
 ],
 "metadata": {
  "kernelspec": {
   "display_name": "Python 3",
   "language": "python",
   "name": "python3"
  },
  "language_info": {
   "codemirror_mode": {
    "name": "ipython",
    "version": 3
   },
   "file_extension": ".py",
   "mimetype": "text/x-python",
   "name": "python",
   "nbconvert_exporter": "python",
   "pygments_lexer": "ipython3",
   "version": "3.7.0"
  }
 },
 "nbformat": 4,
 "nbformat_minor": 2
}
