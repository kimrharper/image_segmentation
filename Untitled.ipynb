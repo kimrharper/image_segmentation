{
 "cells": [
  {
   "cell_type": "code",
   "execution_count": 66,
   "metadata": {},
   "outputs": [],
   "source": [
    "from functools import reduce\n",
    "from collections import Counter\n",
    "\n",
    "def median(x):\n",
    "    x = sorted(x)\n",
    "    mid = len(x)/2\n",
    "    if mid % 1 != 0:\n",
    "        return x[int(mid)]\n",
    "    else:\n",
    "        return (x[int(mid-1)]+x[int(mid)])/2\n",
    "    \n",
    "def mode(x):\n",
    "    counts=Counter(x)\n",
    "    max_count=counts.most_common(1)[0][1]\n",
    "    most_common = [m[0] for m in counts.items() if m[1]==max_count]\n",
    "    return list(set([x_i for x_i in x if x_i in most_common])) if (len(most_common)>1 and max_count>1) else None\n",
    "\n",
    "def three_averages(x):\n",
    "    return {\n",
    "        'mean':reduce(lambda n1, n2: n1 + n2, x) / len(x),\n",
    "        'median':median(x),\n",
    "        'mode':mode(x)}"
   ]
  },
  {
   "cell_type": "code",
   "execution_count": 67,
   "metadata": {},
   "outputs": [
    {
     "data": {
      "text/plain": [
       "{'mean': 4.444444444444445, 'median': 5, 'mode': [5, 7]}"
      ]
     },
     "execution_count": 67,
     "metadata": {},
     "output_type": "execute_result"
    }
   ],
   "source": []
  },
  {
   "cell_type": "code",
   "execution_count": null,
   "metadata": {},
   "outputs": [],
   "source": [
    "## MEAN ##\n",
    "\n",
    "# Method 1\n",
    "mean = lambda x: sum(x)/len(x)\n",
    "\n",
    "# Method 2 - Using reduce (which doesn't seem necessary)\n",
    "\n",
    "mean_reduce = reduce(lambda n1, n2: n1 + n2, x) / len(x)\n",
    "\n",
    "## MEDIAN ##\n",
    "# Method 1\n",
    "def median(x):\n",
    "x = sorted(x)\n",
    "mid = len(x)/2\n",
    "if mid % 1 != 0:\n",
    "return x[int(mid)]\n",
    "else:\n",
    "return (x[int(mid-1)]+x[int(mid)])/2\n",
    "\n",
    "## MODE ##\n",
    "# Method 1 - Not using libraries\n",
    "def mode(l):\n",
    "    counts = {}\n",
    "        for x in l:\n",
    "    counts[x]=0\n",
    "    for x in l:\n",
    "        counts[x]+=1\n",
    "\n",
    "    max_val = 0\n",
    "    for i,x in enumerate(counts.values()):\n",
    "    max_val = x if x>max_val else max_val\n",
    "    modes = []\n",
    "    return [x for x in counts.keys() if counts[x] == max_val]\n",
    "\n",
    "# Method 2 - A method I wrote a little while back\n",
    "\n",
    "def mode(x):\n",
    "    counts=Counter(x)\n",
    "    max_count=counts.most_common(1)[0][1]\n",
    "    most_common = [m[0] for m in counts.items() if m[1]==max_count]\n",
    "    return [x_i for x_i in x if x_i in most_common] if (len(most_common)==1 and max_count>1) else None"
   ]
  }
 ],
 "metadata": {
  "kernelspec": {
   "display_name": "Python 3",
   "language": "python",
   "name": "python3"
  },
  "language_info": {
   "codemirror_mode": {
    "name": "ipython",
    "version": 3
   },
   "file_extension": ".py",
   "mimetype": "text/x-python",
   "name": "python",
   "nbconvert_exporter": "python",
   "pygments_lexer": "ipython3",
   "version": "3.7.0"
  }
 },
 "nbformat": 4,
 "nbformat_minor": 2
}
