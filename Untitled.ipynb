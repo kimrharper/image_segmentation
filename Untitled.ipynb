{
 "cells": [
  {
   "cell_type": "code",
   "execution_count": 380,
   "metadata": {},
   "outputs": [
    {
     "name": "stdout",
     "output_type": "stream",
     "text": [
      "Requirement already satisfied: numpy in /Users/ryan/.local/share/virtualenvs/segmentation-APSAkCPI/lib/python3.7/site-packages (1.16.1)\n"
     ]
    }
   ],
   "source": [
    "!pip install numpy"
   ]
  },
  {
   "cell_type": "code",
   "execution_count": 241,
   "metadata": {},
   "outputs": [],
   "source": [
    "from collections import Counter\n",
    "def solution(S, T):\n",
    "    # Convert Strings to Counters\n",
    "    S_count, T_count = Counter(S), Counter(T)\n",
    "    Chars_count = list(set(S_count+T_count))\n",
    "    # Init Variables\n",
    "    s_extra,t_extra,swap_check,total_vals = [],[],[], 0\n",
    "    \n",
    "\n",
    "    for i,c in enumerate(Chars_count):\n",
    "        s_val = S_count[c]\n",
    "        t_val = T_count[c]\n",
    "        total = t_val-s_val\n",
    "        if total < 0:\n",
    "            s_extra.append(f'{c}')\n",
    "    \n",
    "        elif total > 0:\n",
    "            t_extra.append(f'{c}')\n",
    "    \n",
    "        total_vals += abs(total)\n",
    "    \n",
    "    if total_vals == 1 and len(t_extra) == 1:\n",
    "        return \"INSERT \" + t_extra[0]\n",
    "    \n",
    "    elif total_vals == 0:\n",
    "        for i,c in enumerate(list(S)):\n",
    "            if S[i] != T[i]:\n",
    "                swap_check.append(c)\n",
    "        if len(swap_check) == 0:\n",
    "            return \"EQUAL\"\n",
    "        elif len(swap_check)== 2:\n",
    "            return f'SWAP {swap_check[0]} {swap_check[1]}'\n",
    "    \n",
    "    elif total_vals == 2 and len(t_extra) == 1 and len(s_extra) == 1:\n",
    "        return \"REPLACE \" + s_extra[0] + ' ' + t_extra[0]\n",
    "    \n",
    "    else:\n",
    "        return \"IMPOSSIBLE\""
   ]
  },
  {
   "cell_type": "code",
   "execution_count": 243,
   "metadata": {},
   "outputs": [
    {
     "data": {
      "text/plain": [
       "'SWAP o r'"
      ]
     },
     "execution_count": 243,
     "metadata": {},
     "output_type": "execute_result"
    }
   ],
   "source": [
    "solution('form','from')"
   ]
  },
  {
   "cell_type": "code",
   "execution_count": 173,
   "metadata": {},
   "outputs": [
    {
     "data": {
      "text/plain": [
       "{'0', '1', '2'}"
      ]
     },
     "execution_count": 173,
     "metadata": {},
     "output_type": "execute_result"
    }
   ],
   "source": []
  },
  {
   "cell_type": "code",
   "execution_count": 182,
   "metadata": {},
   "outputs": [],
   "source": []
  },
  {
   "cell_type": "code",
   "execution_count": 232,
   "metadata": {},
   "outputs": [
    {
     "name": "stdout",
     "output_type": "stream",
     "text": [
      "[]\n",
      "EQUAL\n"
     ]
    }
   ],
   "source": [
    "S = 'form'\n",
    "T = 'form'\n",
    "S_count = Counter(S)\n",
    "T_count = Counter(T)\n",
    "total_chars = list(set(S_count+T_count))\n",
    "total_vals = 0\n",
    "s_extra_letter = []\n",
    "t_extra_letter = []\n",
    "\n",
    "\n",
    "for i,c in enumerate(total_chars):\n",
    "    s_val = S_count[c]\n",
    "    t_val = T_count[c]\n",
    "    total = t_val-s_val\n",
    "    if total < 0:\n",
    "        s_extra_letter.append(f'{c}')\n",
    "\n",
    "    elif total > 0:\n",
    "        t_extra_letter.append(f'{c}')\n",
    "\n",
    "    total_vals += abs(total)\n",
    "\n",
    "if total_vals == 0:\n",
    "    swap_check = []\n",
    "    for i,c in enumerate(list(S)):\n",
    "        if S[i] != T[i]:\n",
    "            swap_check.append(c)\n",
    "    if len(swap_check) == 0:\n",
    "        print(\"EQUAL\")\n",
    "    elif len(swap_check)== 2:\n",
    "        print(f'SWAP {swap_check[0]} {swap_check[1]}')\n",
    "\n",
    "# elif total_vals == 2 and len(t_extra_letter) == 1 and len(s_extra_letter) == 1:\n",
    "#     return \"REPLACE \" + t_extra_letter[0] + ' ' + s_extra_letter[0]\n",
    "\n",
    "# else:\n",
    "#     return \"IMPOSSIBLE\""
   ]
  },
  {
   "cell_type": "code",
   "execution_count": 125,
   "metadata": {},
   "outputs": [
    {
     "data": {
      "text/plain": [
       "['e', 'l', 'y', 't']"
      ]
     },
     "execution_count": 125,
     "metadata": {},
     "output_type": "execute_result"
    }
   ],
   "source": [
    "extra_letter"
   ]
  },
  {
   "cell_type": "code",
   "execution_count": 244,
   "metadata": {},
   "outputs": [],
   "source": [
    "i = 300"
   ]
  },
  {
   "cell_type": "code",
   "execution_count": 311,
   "metadata": {},
   "outputs": [],
   "source": [
    "# you can write to stdout for debugging purposes, e.g.\n",
    "# print(\"this is a debug message\")\n",
    "    \n",
    "\n",
    "def solution(N):\n",
    "    b = bin(N)[2:]\n",
    "    i,reset,length,mlength=0,0,0,0\n",
    "    less = lambda new,old: new if new>old else old\n",
    "    \n",
    "    for i in b:\n",
    "        if reset==1 and i!='1':\n",
    "            length+=1\n",
    "        elif i=='1':\n",
    "            reset+=1\n",
    "        if reset==2:\n",
    "            mlength=less(length, mlength)\n",
    "            length,reset=0,1\n",
    "    return mlength"
   ]
  },
  {
   "cell_type": "code",
   "execution_count": 312,
   "metadata": {},
   "outputs": [
    {
     "name": "stdout",
     "output_type": "stream",
     "text": [
      "100101100\n",
      "0\n",
      "2\n",
      "2\n"
     ]
    },
    {
     "data": {
      "text/plain": [
       "2"
      ]
     },
     "execution_count": 312,
     "metadata": {},
     "output_type": "execute_result"
    }
   ],
   "source": [
    "solution(300)"
   ]
  },
  {
   "cell_type": "code",
   "execution_count": 316,
   "metadata": {},
   "outputs": [],
   "source": []
  },
  {
   "cell_type": "code",
   "execution_count": 370,
   "metadata": {},
   "outputs": [],
   "source": [
    "a = gen_str(bin(300)[2:])\n",
    "def gen_str(s):\n",
    "    for i in s:\n",
    "        yield(i+'hi')"
   ]
  },
  {
   "cell_type": "code",
   "execution_count": 379,
   "metadata": {},
   "outputs": [
    {
     "data": {
      "text/plain": [
       "'0hi'"
      ]
     },
     "execution_count": 379,
     "metadata": {},
     "output_type": "execute_result"
    }
   ],
   "source": [
    "next(a)"
   ]
  },
  {
   "cell_type": "code",
   "execution_count": null,
   "metadata": {},
   "outputs": [],
   "source": [
    "return \"INSERT c\"  \n",
    "return \"EQUAL\"\n",
    "return \"SWAP c d\n",
    "return \"REPLACE c d\"\n",
    "return \"IMPOSSIBLE\""
   ]
  }
 ],
 "metadata": {
  "kernelspec": {
   "display_name": "Python 3",
   "language": "python",
   "name": "python3"
  },
  "language_info": {
   "codemirror_mode": {
    "name": "ipython",
    "version": 3
   },
   "file_extension": ".py",
   "mimetype": "text/x-python",
   "name": "python",
   "nbconvert_exporter": "python",
   "pygments_lexer": "ipython3",
   "version": "3.7.0"
  }
 },
 "nbformat": 4,
 "nbformat_minor": 2
}
